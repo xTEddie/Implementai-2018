{
 "cells": [
  {
   "cell_type": "code",
   "execution_count": 8,
   "metadata": {},
   "outputs": [],
   "source": [
    "import cv2\n",
    "import os\n",
    "import numpy as np\n",
    "import matplotlib.pyplot as plt\n",
    "from tqdm import tqdm_notebook"
   ]
  },
  {
   "cell_type": "code",
   "execution_count": 2,
   "metadata": {},
   "outputs": [
    {
     "name": "stdout",
     "output_type": "stream",
     "text": [
      "bad_0.mp4\n",
      "bad_1.mp4\n",
      "bad_2.mp4\n",
      "bad_3.mp4\n",
      "bad_5.mp4\n",
      "good_0.mp4\n",
      "good_1.mp4\n",
      "good_2.mp4\n",
      "good_3.mp4\n",
      "good_4.mp4\n",
      "good_5.mp4\n",
      "good_6.mp4\n",
      "good_7.mp4\n",
      "good_8.mp4\n"
     ]
    }
   ],
   "source": [
    "a = os.listdir(\"/Users/tristansaumure-toupin/Google Drive/implement_ai_2018/\")\n",
    "interval_analisys = 0.5\n",
    "vids = []\n",
    "for v in sorted(a):\n",
    "    if v.endswith(\".mp4\") : \n",
    "        vids.append('/Users/tristansaumure-toupin/Google Drive/implement_ai_2018/'+v)\n",
    "        print (v)\n"
   ]
  },
  {
   "cell_type": "code",
   "execution_count": 14,
   "metadata": {},
   "outputs": [],
   "source": [
    "def get_fps(cap):\n",
    "    return cap.get(cv2.CAP_PROP_FPS)\n",
    "\n",
    "def get_capture(vid_path):\n",
    "    return cv2.VideoCapture(vid_path)\n",
    "\n",
    "def get_frame_count(cap):\n",
    "    return int(cap.get(cv2.CAP_PROP_FRAME_COUNT))\n",
    "\n",
    "def get_lenght(c, f):\n",
    "    return c/f\n",
    "\n",
    "def label_vid(st, en, cap, interval):    \n",
    "    fps = get_fps(capture)\n",
    "    frame_count = get_frame_count(capture)\n",
    "    lenght = get_lenght(frame_count, fps)\n",
    "    labels = []\n",
    "    each_n = int(fps*interval)\n",
    "    location = 0\n",
    "    \n",
    "    for i in (range(frame_count)):\n",
    "        if i % each_n == 0:\n",
    "            time_in_v = i/fps\n",
    "            label = 0\n",
    "            if not (location >= len(st)):\n",
    "                if time_in_v > st[location]:\n",
    "                    label += 1\n",
    "                if time_in_v > en[location]:\n",
    "                    location += 1\n",
    "            labels.append(label)\n",
    "    return labels"
   ]
  },
  {
   "cell_type": "code",
   "execution_count": 115,
   "metadata": {},
   "outputs": [],
   "source": [
    "def get_image_brightness(image):\n",
    "    return np.mean(image)\n",
    "\n",
    "def get_vid_brightness(cap, interval):\n",
    "    brightness_of_vid = []\n",
    "    s, i = cap.read()\n",
    "    total_frame = get_frame_count(cap)\n",
    "    fps = get_fps(capture)\n",
    "    for frame_count in (range(total_frame)):\n",
    "        if frame_count % int(fps*interval) == 0:\n",
    "            image = cv2.cvtColor(i, cv2.COLOR_BGR2GRAY)\n",
    "            brightness_of_vid.append(get_image_brightness(image))\n",
    "        s, i = cap.read()\n",
    "    return brightness_of_vid\n",
    "\n",
    "def get_vid_motion(cap, interval):\n",
    "    motion_of_vid = []\n",
    "    s, i = cap.read()\n",
    "    total_frame = get_frame_count(cap)\n",
    "    frame_count, c  = 0, 0\n",
    "    fps = get_fps(capture)\n",
    "    prev = None\n",
    "    for frame_count in tqdm_notebook(range(total_frame)):\n",
    "        if (frame_count - 1) % int(fps*interval) == 0 or (frame_count) % int(fps*interval) == 0:\n",
    "            if prev is not None:\n",
    "                image = cv2.cvtColor(i, cv2.COLOR_BGR2GRAY)\n",
    "                diff = image - prev\n",
    "                motion_of_vid.append(np.count_nonzero(diff))\n",
    "                prev = None\n",
    "            else:\n",
    "                prev = cv2.cvtColor(i, cv2.COLOR_BGR2GRAY)\n",
    "        s, i = cap.read()\n",
    "    return motion_of_vid\n"
   ]
  },
  {
   "cell_type": "code",
   "execution_count": 116,
   "metadata": {},
   "outputs": [
    {
     "data": {
      "application/vnd.jupyter.widget-view+json": {
       "model_id": "aa6fbed74ca048bab39d3010d340162b",
       "version_major": 2,
       "version_minor": 0
      },
      "text/html": [
       "<p>Failed to display Jupyter Widget of type <code>HBox</code>.</p>\n",
       "<p>\n",
       "  If you're reading this message in the Jupyter Notebook or JupyterLab Notebook, it may mean\n",
       "  that the widgets JavaScript is still loading. If this message persists, it\n",
       "  likely means that the widgets JavaScript library is either not installed or\n",
       "  not enabled. See the <a href=\"https://ipywidgets.readthedocs.io/en/stable/user_install.html\">Jupyter\n",
       "  Widgets Documentation</a> for setup instructions.\n",
       "</p>\n",
       "<p>\n",
       "  If you're reading this message in another frontend (for example, a static\n",
       "  rendering on GitHub or <a href=\"https://nbviewer.jupyter.org/\">NBViewer</a>),\n",
       "  it may mean that your frontend doesn't currently support widgets.\n",
       "</p>\n"
      ],
      "text/plain": [
       "HBox(children=(IntProgress(value=0, max=14), HTML(value='')))"
      ]
     },
     "metadata": {},
     "output_type": "display_data"
    },
    {
     "data": {
      "application/vnd.jupyter.widget-view+json": {
       "model_id": "c0dd8cd757994f59a27542d76f957169",
       "version_major": 2,
       "version_minor": 0
      },
      "text/html": [
       "<p>Failed to display Jupyter Widget of type <code>HBox</code>.</p>\n",
       "<p>\n",
       "  If you're reading this message in the Jupyter Notebook or JupyterLab Notebook, it may mean\n",
       "  that the widgets JavaScript is still loading. If this message persists, it\n",
       "  likely means that the widgets JavaScript library is either not installed or\n",
       "  not enabled. See the <a href=\"https://ipywidgets.readthedocs.io/en/stable/user_install.html\">Jupyter\n",
       "  Widgets Documentation</a> for setup instructions.\n",
       "</p>\n",
       "<p>\n",
       "  If you're reading this message in another frontend (for example, a static\n",
       "  rendering on GitHub or <a href=\"https://nbviewer.jupyter.org/\">NBViewer</a>),\n",
       "  it may mean that your frontend doesn't currently support widgets.\n",
       "</p>\n"
      ],
      "text/plain": [
       "HBox(children=(IntProgress(value=0, max=2250), HTML(value='')))"
      ]
     },
     "metadata": {},
     "output_type": "display_data"
    },
    {
     "data": {
      "application/vnd.jupyter.widget-view+json": {
       "model_id": "f2e2b1b299914cb699e32f1089123ab2",
       "version_major": 2,
       "version_minor": 0
      },
      "text/html": [
       "<p>Failed to display Jupyter Widget of type <code>HBox</code>.</p>\n",
       "<p>\n",
       "  If you're reading this message in the Jupyter Notebook or JupyterLab Notebook, it may mean\n",
       "  that the widgets JavaScript is still loading. If this message persists, it\n",
       "  likely means that the widgets JavaScript library is either not installed or\n",
       "  not enabled. See the <a href=\"https://ipywidgets.readthedocs.io/en/stable/user_install.html\">Jupyter\n",
       "  Widgets Documentation</a> for setup instructions.\n",
       "</p>\n",
       "<p>\n",
       "  If you're reading this message in another frontend (for example, a static\n",
       "  rendering on GitHub or <a href=\"https://nbviewer.jupyter.org/\">NBViewer</a>),\n",
       "  it may mean that your frontend doesn't currently support widgets.\n",
       "</p>\n"
      ],
      "text/plain": [
       "HBox(children=(IntProgress(value=0, max=5012), HTML(value='')))"
      ]
     },
     "metadata": {},
     "output_type": "display_data"
    },
    {
     "data": {
      "application/vnd.jupyter.widget-view+json": {
       "model_id": "f081683008904b8884f3e9e5e9d39ea7",
       "version_major": 2,
       "version_minor": 0
      },
      "text/html": [
       "<p>Failed to display Jupyter Widget of type <code>HBox</code>.</p>\n",
       "<p>\n",
       "  If you're reading this message in the Jupyter Notebook or JupyterLab Notebook, it may mean\n",
       "  that the widgets JavaScript is still loading. If this message persists, it\n",
       "  likely means that the widgets JavaScript library is either not installed or\n",
       "  not enabled. See the <a href=\"https://ipywidgets.readthedocs.io/en/stable/user_install.html\">Jupyter\n",
       "  Widgets Documentation</a> for setup instructions.\n",
       "</p>\n",
       "<p>\n",
       "  If you're reading this message in another frontend (for example, a static\n",
       "  rendering on GitHub or <a href=\"https://nbviewer.jupyter.org/\">NBViewer</a>),\n",
       "  it may mean that your frontend doesn't currently support widgets.\n",
       "</p>\n"
      ],
      "text/plain": [
       "HBox(children=(IntProgress(value=0, max=3007), HTML(value='')))"
      ]
     },
     "metadata": {},
     "output_type": "display_data"
    },
    {
     "data": {
      "application/vnd.jupyter.widget-view+json": {
       "model_id": "1b3b9abb18bc40b6b695c8629d49d3c1",
       "version_major": 2,
       "version_minor": 0
      },
      "text/html": [
       "<p>Failed to display Jupyter Widget of type <code>HBox</code>.</p>\n",
       "<p>\n",
       "  If you're reading this message in the Jupyter Notebook or JupyterLab Notebook, it may mean\n",
       "  that the widgets JavaScript is still loading. If this message persists, it\n",
       "  likely means that the widgets JavaScript library is either not installed or\n",
       "  not enabled. See the <a href=\"https://ipywidgets.readthedocs.io/en/stable/user_install.html\">Jupyter\n",
       "  Widgets Documentation</a> for setup instructions.\n",
       "</p>\n",
       "<p>\n",
       "  If you're reading this message in another frontend (for example, a static\n",
       "  rendering on GitHub or <a href=\"https://nbviewer.jupyter.org/\">NBViewer</a>),\n",
       "  it may mean that your frontend doesn't currently support widgets.\n",
       "</p>\n"
      ],
      "text/plain": [
       "HBox(children=(IntProgress(value=0, max=1593), HTML(value='')))"
      ]
     },
     "metadata": {},
     "output_type": "display_data"
    },
    {
     "data": {
      "application/vnd.jupyter.widget-view+json": {
       "model_id": "4d01672150c64bc08f9cfe1ff99ed509",
       "version_major": 2,
       "version_minor": 0
      },
      "text/html": [
       "<p>Failed to display Jupyter Widget of type <code>HBox</code>.</p>\n",
       "<p>\n",
       "  If you're reading this message in the Jupyter Notebook or JupyterLab Notebook, it may mean\n",
       "  that the widgets JavaScript is still loading. If this message persists, it\n",
       "  likely means that the widgets JavaScript library is either not installed or\n",
       "  not enabled. See the <a href=\"https://ipywidgets.readthedocs.io/en/stable/user_install.html\">Jupyter\n",
       "  Widgets Documentation</a> for setup instructions.\n",
       "</p>\n",
       "<p>\n",
       "  If you're reading this message in another frontend (for example, a static\n",
       "  rendering on GitHub or <a href=\"https://nbviewer.jupyter.org/\">NBViewer</a>),\n",
       "  it may mean that your frontend doesn't currently support widgets.\n",
       "</p>\n"
      ],
      "text/plain": [
       "HBox(children=(IntProgress(value=0, max=28849), HTML(value='')))"
      ]
     },
     "metadata": {},
     "output_type": "display_data"
    },
    {
     "data": {
      "application/vnd.jupyter.widget-view+json": {
       "model_id": "f3a1701505e24c729457a3fcc2bb2f72",
       "version_major": 2,
       "version_minor": 0
      },
      "text/html": [
       "<p>Failed to display Jupyter Widget of type <code>HBox</code>.</p>\n",
       "<p>\n",
       "  If you're reading this message in the Jupyter Notebook or JupyterLab Notebook, it may mean\n",
       "  that the widgets JavaScript is still loading. If this message persists, it\n",
       "  likely means that the widgets JavaScript library is either not installed or\n",
       "  not enabled. See the <a href=\"https://ipywidgets.readthedocs.io/en/stable/user_install.html\">Jupyter\n",
       "  Widgets Documentation</a> for setup instructions.\n",
       "</p>\n",
       "<p>\n",
       "  If you're reading this message in another frontend (for example, a static\n",
       "  rendering on GitHub or <a href=\"https://nbviewer.jupyter.org/\">NBViewer</a>),\n",
       "  it may mean that your frontend doesn't currently support widgets.\n",
       "</p>\n"
      ],
      "text/plain": [
       "HBox(children=(IntProgress(value=0, max=172), HTML(value='')))"
      ]
     },
     "metadata": {},
     "output_type": "display_data"
    },
    {
     "data": {
      "application/vnd.jupyter.widget-view+json": {
       "model_id": "e899c41e6e574efa8e55c6a1cc210df1",
       "version_major": 2,
       "version_minor": 0
      },
      "text/html": [
       "<p>Failed to display Jupyter Widget of type <code>HBox</code>.</p>\n",
       "<p>\n",
       "  If you're reading this message in the Jupyter Notebook or JupyterLab Notebook, it may mean\n",
       "  that the widgets JavaScript is still loading. If this message persists, it\n",
       "  likely means that the widgets JavaScript library is either not installed or\n",
       "  not enabled. See the <a href=\"https://ipywidgets.readthedocs.io/en/stable/user_install.html\">Jupyter\n",
       "  Widgets Documentation</a> for setup instructions.\n",
       "</p>\n",
       "<p>\n",
       "  If you're reading this message in another frontend (for example, a static\n",
       "  rendering on GitHub or <a href=\"https://nbviewer.jupyter.org/\">NBViewer</a>),\n",
       "  it may mean that your frontend doesn't currently support widgets.\n",
       "</p>\n"
      ],
      "text/plain": [
       "HBox(children=(IntProgress(value=0, max=927), HTML(value='')))"
      ]
     },
     "metadata": {},
     "output_type": "display_data"
    },
    {
     "data": {
      "application/vnd.jupyter.widget-view+json": {
       "model_id": "486bfddf91544c2d8471314cca661747",
       "version_major": 2,
       "version_minor": 0
      },
      "text/html": [
       "<p>Failed to display Jupyter Widget of type <code>HBox</code>.</p>\n",
       "<p>\n",
       "  If you're reading this message in the Jupyter Notebook or JupyterLab Notebook, it may mean\n",
       "  that the widgets JavaScript is still loading. If this message persists, it\n",
       "  likely means that the widgets JavaScript library is either not installed or\n",
       "  not enabled. See the <a href=\"https://ipywidgets.readthedocs.io/en/stable/user_install.html\">Jupyter\n",
       "  Widgets Documentation</a> for setup instructions.\n",
       "</p>\n",
       "<p>\n",
       "  If you're reading this message in another frontend (for example, a static\n",
       "  rendering on GitHub or <a href=\"https://nbviewer.jupyter.org/\">NBViewer</a>),\n",
       "  it may mean that your frontend doesn't currently support widgets.\n",
       "</p>\n"
      ],
      "text/plain": [
       "HBox(children=(IntProgress(value=0, max=1100), HTML(value='')))"
      ]
     },
     "metadata": {},
     "output_type": "display_data"
    },
    {
     "data": {
      "application/vnd.jupyter.widget-view+json": {
       "model_id": "f9ea143de45e403db4de852212a36477",
       "version_major": 2,
       "version_minor": 0
      },
      "text/html": [
       "<p>Failed to display Jupyter Widget of type <code>HBox</code>.</p>\n",
       "<p>\n",
       "  If you're reading this message in the Jupyter Notebook or JupyterLab Notebook, it may mean\n",
       "  that the widgets JavaScript is still loading. If this message persists, it\n",
       "  likely means that the widgets JavaScript library is either not installed or\n",
       "  not enabled. See the <a href=\"https://ipywidgets.readthedocs.io/en/stable/user_install.html\">Jupyter\n",
       "  Widgets Documentation</a> for setup instructions.\n",
       "</p>\n",
       "<p>\n",
       "  If you're reading this message in another frontend (for example, a static\n",
       "  rendering on GitHub or <a href=\"https://nbviewer.jupyter.org/\">NBViewer</a>),\n",
       "  it may mean that your frontend doesn't currently support widgets.\n",
       "</p>\n"
      ],
      "text/plain": [
       "HBox(children=(IntProgress(value=0, max=1177), HTML(value='')))"
      ]
     },
     "metadata": {},
     "output_type": "display_data"
    },
    {
     "data": {
      "application/vnd.jupyter.widget-view+json": {
       "model_id": "3edc3eb0ddba4fb2b5b014f4e8ab7934",
       "version_major": 2,
       "version_minor": 0
      },
      "text/html": [
       "<p>Failed to display Jupyter Widget of type <code>HBox</code>.</p>\n",
       "<p>\n",
       "  If you're reading this message in the Jupyter Notebook or JupyterLab Notebook, it may mean\n",
       "  that the widgets JavaScript is still loading. If this message persists, it\n",
       "  likely means that the widgets JavaScript library is either not installed or\n",
       "  not enabled. See the <a href=\"https://ipywidgets.readthedocs.io/en/stable/user_install.html\">Jupyter\n",
       "  Widgets Documentation</a> for setup instructions.\n",
       "</p>\n",
       "<p>\n",
       "  If you're reading this message in another frontend (for example, a static\n",
       "  rendering on GitHub or <a href=\"https://nbviewer.jupyter.org/\">NBViewer</a>),\n",
       "  it may mean that your frontend doesn't currently support widgets.\n",
       "</p>\n"
      ],
      "text/plain": [
       "HBox(children=(IntProgress(value=0, max=901), HTML(value='')))"
      ]
     },
     "metadata": {},
     "output_type": "display_data"
    },
    {
     "data": {
      "application/vnd.jupyter.widget-view+json": {
       "model_id": "9f2cfccbfe6e417691ce1f1b34699cbf",
       "version_major": 2,
       "version_minor": 0
      },
      "text/html": [
       "<p>Failed to display Jupyter Widget of type <code>HBox</code>.</p>\n",
       "<p>\n",
       "  If you're reading this message in the Jupyter Notebook or JupyterLab Notebook, it may mean\n",
       "  that the widgets JavaScript is still loading. If this message persists, it\n",
       "  likely means that the widgets JavaScript library is either not installed or\n",
       "  not enabled. See the <a href=\"https://ipywidgets.readthedocs.io/en/stable/user_install.html\">Jupyter\n",
       "  Widgets Documentation</a> for setup instructions.\n",
       "</p>\n",
       "<p>\n",
       "  If you're reading this message in another frontend (for example, a static\n",
       "  rendering on GitHub or <a href=\"https://nbviewer.jupyter.org/\">NBViewer</a>),\n",
       "  it may mean that your frontend doesn't currently support widgets.\n",
       "</p>\n"
      ],
      "text/plain": [
       "HBox(children=(IntProgress(value=0, max=1243), HTML(value='')))"
      ]
     },
     "metadata": {},
     "output_type": "display_data"
    },
    {
     "data": {
      "application/vnd.jupyter.widget-view+json": {
       "model_id": "204c035793234f988c15b4ea340c7164",
       "version_major": 2,
       "version_minor": 0
      },
      "text/html": [
       "<p>Failed to display Jupyter Widget of type <code>HBox</code>.</p>\n",
       "<p>\n",
       "  If you're reading this message in the Jupyter Notebook or JupyterLab Notebook, it may mean\n",
       "  that the widgets JavaScript is still loading. If this message persists, it\n",
       "  likely means that the widgets JavaScript library is either not installed or\n",
       "  not enabled. See the <a href=\"https://ipywidgets.readthedocs.io/en/stable/user_install.html\">Jupyter\n",
       "  Widgets Documentation</a> for setup instructions.\n",
       "</p>\n",
       "<p>\n",
       "  If you're reading this message in another frontend (for example, a static\n",
       "  rendering on GitHub or <a href=\"https://nbviewer.jupyter.org/\">NBViewer</a>),\n",
       "  it may mean that your frontend doesn't currently support widgets.\n",
       "</p>\n"
      ],
      "text/plain": [
       "HBox(children=(IntProgress(value=0, max=516), HTML(value='')))"
      ]
     },
     "metadata": {},
     "output_type": "display_data"
    },
    {
     "data": {
      "application/vnd.jupyter.widget-view+json": {
       "model_id": "183dc95f6402411d9b83d4ae6922f30f",
       "version_major": 2,
       "version_minor": 0
      },
      "text/html": [
       "<p>Failed to display Jupyter Widget of type <code>HBox</code>.</p>\n",
       "<p>\n",
       "  If you're reading this message in the Jupyter Notebook or JupyterLab Notebook, it may mean\n",
       "  that the widgets JavaScript is still loading. If this message persists, it\n",
       "  likely means that the widgets JavaScript library is either not installed or\n",
       "  not enabled. See the <a href=\"https://ipywidgets.readthedocs.io/en/stable/user_install.html\">Jupyter\n",
       "  Widgets Documentation</a> for setup instructions.\n",
       "</p>\n",
       "<p>\n",
       "  If you're reading this message in another frontend (for example, a static\n",
       "  rendering on GitHub or <a href=\"https://nbviewer.jupyter.org/\">NBViewer</a>),\n",
       "  it may mean that your frontend doesn't currently support widgets.\n",
       "</p>\n"
      ],
      "text/plain": [
       "HBox(children=(IntProgress(value=0, max=1058), HTML(value='')))"
      ]
     },
     "metadata": {},
     "output_type": "display_data"
    },
    {
     "data": {
      "application/vnd.jupyter.widget-view+json": {
       "model_id": "edecb0e6c8184a1fb6e7181232f2d8cb",
       "version_major": 2,
       "version_minor": 0
      },
      "text/html": [
       "<p>Failed to display Jupyter Widget of type <code>HBox</code>.</p>\n",
       "<p>\n",
       "  If you're reading this message in the Jupyter Notebook or JupyterLab Notebook, it may mean\n",
       "  that the widgets JavaScript is still loading. If this message persists, it\n",
       "  likely means that the widgets JavaScript library is either not installed or\n",
       "  not enabled. See the <a href=\"https://ipywidgets.readthedocs.io/en/stable/user_install.html\">Jupyter\n",
       "  Widgets Documentation</a> for setup instructions.\n",
       "</p>\n",
       "<p>\n",
       "  If you're reading this message in another frontend (for example, a static\n",
       "  rendering on GitHub or <a href=\"https://nbviewer.jupyter.org/\">NBViewer</a>),\n",
       "  it may mean that your frontend doesn't currently support widgets.\n",
       "</p>\n"
      ],
      "text/plain": [
       "HBox(children=(IntProgress(value=0, max=434), HTML(value='')))"
      ]
     },
     "metadata": {},
     "output_type": "display_data"
    },
    {
     "name": "stdout",
     "output_type": "stream",
     "text": [
      "\n"
     ]
    }
   ],
   "source": [
    "labels = []\n",
    "starts = [[17,44,54],[4 ],[89],[11],\n",
    "          [32,77,118,171,178,264,378,469,485,568,609,627,648,657,673,686,713,774,822,867,923],\n",
    "          [],[],[],[],[],[],[],[],[]]\n",
    "ends =   [[39,52,66],[27],[92],[13],\n",
    "          [51,94,148,172,248,277,408,470,549,600,615,627,648,657,676,704,723,775,822,886,941],\n",
    "          [],[],[],[],[],[],[],[],[]]\n",
    "brightness, action = [], []\n",
    "\n",
    "for pos, path in enumerate(tqdm_notebook(vids)):\n",
    "    capture = get_capture(path)\n",
    "#     labels.append(label_vid(starts[pos], ends[pos], capture, interval_analisys))\n",
    "#     brightness.append(get_vid_brightness(capture, interval_analisys))\n",
    "    action.append(get_vid_motion(capture, interval_analisys))"
   ]
  },
  {
   "cell_type": "code",
   "execution_count": 117,
   "metadata": {},
   "outputs": [
    {
     "name": "stdout",
     "output_type": "stream",
     "text": [
      "[[374777, 280302, 300762, 340116, 254986, 288416, 258189, 302037, 318930, 310581, 350270, 365688, 349037, 375497, 357957, 373370, 382516, 349856, 85556, 127739, 80044, 50268, 307349, 275866, 239982, 291485, 166352, 290121, 223644, 142087, 34399, 86798, 205017, 332375, 340490, 349575, 388334, 374937, 369420, 324760, 340336, 261828, 306417, 355999, 327128, 365190, 192952, 325655, 323799, 378735, 378610, 319823, 293449, 328625, 352576, 336919, 268822, 310463, 349136, 393168, 360199, 258894, 316733, 354697, 367645, 373941, 322442, 377358, 367478, 373021, 372963, 352987, 336318, 336891, 218299, 341185, 355849, 339949, 325945, 387423, 327535, 169052, 393926, 312697, 387818, 381260, 309474, 266790, 369932, 371279, 339033, 366202, 359516, 351041, 361556, 348034, 322988, 341362, 335021, 322962, 317141, 355494, 362248, 357534, 377235, 372048, 359704, 262554, 355653, 328606, 385358, 382368, 349588, 354487, 347165, 352203, 304908, 281280, 347455, 299598, 334096, 375395, 359566, 386451, 376948, 347161, 369031, 343782, 301687, 319278, 358444, 314195, 313603, 318717, 313154, 217894, 288937, 316025, 320718, 289118, 312632, 335717, 314003, 334292, 320107, 331984, 71938, 277105, 0, 0], [18775, 36228, 16894, 27843, 32337, 28453, 34412, 38789, 41476, 71516, 60019, 57821, 50911, 58253, 47933, 69201, 60135, 67190, 63045, 61648, 63027, 58128, 63506, 62406, 50938, 46466, 63436, 66798, 57143, 57056, 75477, 56058, 60105, 77974, 82096, 81113, 54818, 84685, 85422, 76012, 84265, 84115, 79734, 73453, 78622, 82602, 81490, 79592, 77023, 76616, 79368, 78677, 79741, 75180, 84498, 87385, 83393, 74390, 67659, 84109, 81207, 82996, 72978, 78960, 85368, 92628, 75364, 83224, 66917, 68075, 61645, 83891, 83132, 72171, 86938, 82305, 71613, 72903, 67240, 71294, 78942, 58500, 73066, 56410, 66166, 65498, 72445, 63146, 53295, 83524, 76818, 80628, 76213, 75090, 78151, 74123, 66574, 79606, 69023, 77046, 80591, 69267, 72023, 76604, 56882, 48151, 72167, 78135, 81813, 84267, 81718, 75414, 57329, 71085, 77195, 73379, 64428, 68884, 76006, 79728, 66681, 71309, 76874, 79309, 77555, 70126, 62529, 83034, 78757, 71628, 73278, 88892, 84095, 82104, 81196, 72574, 76669, 62298, 53265, 73677, 65901, 74591, 71107, 74908, 88140, 76596, 82536, 81260, 61329, 83401, 69340, 88365, 75846, 77027, 67241, 60158, 69714, 80289, 45458, 71194, 63720, 72936, 72125, 75774, 71053, 71110, 43724, 77976, 73228, 76032, 76906, 68534, 76907, 79346, 66914, 59045, 54913, 86244, 73540, 75815, 43409, 52197, 70096, 74698, 57048, 77025, 68205, 46121, 79357, 76923, 74447, 77743, 85889, 71085, 85697, 75179, 82952, 73795, 88887, 60655, 77594, 86012, 79454, 68763, 52966, 67002, 78772, 82360, 71744, 57944, 70678, 80770, 67459, 67909, 71143, 74047, 78687, 63992, 81218, 73776, 75172, 77396, 72393, 69517, 57654, 81803, 65554, 72347, 71992, 75207, 79602, 69675, 69759, 82625, 76454, 75010, 65270, 48433, 70180, 78304, 75238, 58213, 76286, 74351, 78002, 67694, 84936, 73148, 82253, 70131, 62322, 54561, 58540, 58165, 60234, 78854, 68711, 69197, 66571, 80484, 78522, 78154, 59521, 78561, 73555, 84787, 74189, 77216, 84601, 78739, 73967, 76032, 76696, 70720, 49714, 75557, 71166, 68946, 80867, 79860, 3330, 48390, 44141, 43377, 34388, 48156, 37555, 44672, 40457, 44097, 38100, 36781, 37269, 38465, 28232, 39164, 28572, 24079, 35031, 48516, 47848, 54489, 50213, 47118, 40795, 34889, 38296, 58094, 64069, 63512, 52774, 69642, 71486, 64986, 66181, 70247, 63795, 66753, 55895, 61129, 65314, 59158, 51751, 53471, 32097, 40221, 35774, 39516, 42599, 47231, 48799, 46434, 44530, 49626, 37524], [31000, 8457, 21894, 86566, 17096, 23835, 50947, 59834, 23928, 47847, 36074, 14051, 30824, 29298, 8472, 16195, 26248, 16808, 25428, 33452, 11816, 12029, 35243, 51124, 17933, 34388, 42095, 14968, 20562, 70148, 6431, 15509, 105619, 65004, 16185, 73927, 83897, 8545, 25275, 74282, 19571, 21959, 29410, 10320, 130050, 24274, 36768, 11653, 22307, 13684, 29619, 13320, 40794, 21912, 37755, 32231, 14735, 11551, 3349, 32915, 36532, 22686, 30045, 11064, 40890, 49765, 3121, 13390, 81592, 15900, 85515, 32172, 13220, 54779, 35659, 13699, 7656, 53151, 34157, 10255, 9694, 13190, 42526, 20770, 34527, 9636, 47920, 60156, 15887, 14333, 20635, 62752, 4106, 13769, 10156, 18545, 33769, 30903, 18469, 3577, 18923, 68831, 44733, 8933, 11025, 13014, 11703, 12383, 5094, 15324, 8370, 49194, 21685, 14187, 23047, 72624, 121952, 19803, 30140, 38429, 57163, 25835, 87865, 75928, 52170, 25893, 30533, 42819, 19854, 97764, 63518, 24527, 52963, 23072, 13624, 14064, 62814, 34403, 33889, 15448, 68572, 25705, 74477, 35243, 21084, 97407, 154191, 19118, 23469, 130369, 53932, 21053, 31700, 114730, 117767, 84188, 86515, 18615, 72564, 149786, 57591, 50647, 54416, 15599, 120202, 152427, 156238, 73963, 89118, 118457, 80056, 56210, 52448, 40326, 40326, 55249, 33587, 26402, 11219, 65466, 59100, 47305, 108566, 131002, 160479, 39190, 32923, 28040, 83458, 13063, 25486, 153641, 41574, 16349, 153165, 35837, 19925, 65196, 112169, 13004, 23963, 112297, 22914, 33021, 109198, 12631, 21615, 104464, 48102, 22478, 65134, 22357, 10917, 22568, 55366], [6357, 59039, 8334, 2436, 10319, 2251, 893, 644, 5821, 7484, 30033, 477, 5299, 1764, 22370, 42223, 50670, 7690, 8461, 10123, 7169, 2375, 975, 0, 1975, 5388, 20226, 45533, 33812, 987, 2013, 13129, 233, 25394, 3015, 4428, 3721, 6136, 35371, 6679, 159, 2326, 30759, 5721, 26198, 7568, 31634, 5782, 25289, 4953, 2292, 3403, 19375, 22438, 6332, 3082, 19532, 52519, 2893, 5138, 23009, 37843, 50677, 2054, 312, 10582, 69891, 75045, 57351, 36784, 27073, 131453, 68299, 63205, 20589, 11104, 45378, 125917, 60627, 75524, 45110, 19653, 15074, 122675, 25166, 89408, 18843, 12731, 11430, 111755, 64513, 125319, 142934, 26481, 22560, 5972, 879, 3493, 4526, 22127, 57541, 42188, 2232, 1564, 935, 1918, 36328, 10585, 16574, 875, 444, 904, 522, 64], [325876, 318712, 303081, 336848, 367796, 375654, 363955, 318089, 324757, 338347, 328151, 339645, 320946, 344457, 337849, 335340, 337372, 405315, 307503, 304550, 348578, 343699, 375124, 348176, 319084, 311621, 295853, 281489, 313656, 307628, 313989, 389089, 325358, 223770, 357145, 343539, 363286, 365787, 323023, 354162, 294207, 368006, 306211, 283733, 289136, 238388, 215459, 270390, 297605, 312389, 326109, 293900, 300941, 322543, 311404, 219438, 264173, 244832, 301609, 303960, 263998, 228504, 296825, 228408, 389692, 385045, 344396, 387358, 388542, 360748, 253496, 308834, 300434, 324604, 312933, 257417, 261454, 286502, 309308, 316192, 330178, 349808, 348200, 258690, 327214, 287210, 299019, 175498, 320630, 316999, 296718, 219200, 164417, 295188, 278242, 253126, 272720, 360075, 386798, 254139, 397686, 290815, 346908, 377410, 397248, 379604, 335653, 357755, 313722, 311119, 294025, 322456, 315070, 290602, 280597, 296015, 262941, 288338, 254313, 242397, 336708, 307477, 299635, 275361, 314128, 350659, 303994, 323569, 317367, 294011, 296499, 306816, 255582, 231166, 219368, 191672, 209631, 223365, 215967, 278949, 235706, 221894, 212189, 220620, 227296, 218289, 279795, 259187, 296031, 315415, 329607, 360436, 330076, 302923, 318808, 345015, 378523, 355416, 373491, 361181, 344722, 312739, 313942, 335947, 336094, 330442, 338738, 328708, 264600, 267102, 365837, 189832, 298720, 323240, 366173, 367989, 356594, 243547, 321422, 331352, 346399, 347740, 342064, 341331, 359397, 349780, 187968, 296362, 390175, 331055, 329463, 361840, 344285, 366732, 340356, 314228, 326800, 338252, 341267, 344536, 330016, 339696, 369531, 343133, 315319, 240761, 242641, 242732, 209937, 242784, 288524, 281448, 308860, 313383, 307555, 360473, 283133, 292189, 328446, 379274, 336968, 345345, 269447, 330258, 361799, 371714, 393632, 168419, 387753, 391967, 390456, 342712, 369395, 79045, 54836, 385020, 341156, 367578, 268131, 216944, 180496, 303693, 328335, 331466, 300927, 298798, 349812, 375853, 369549, 389978, 377092, 353758, 321662, 355974, 302213, 196029, 368482, 344791, 358917, 379282, 359845, 352337, 368081, 298828, 301894, 373395, 329144, 235621, 382737, 335803, 272397, 378320, 365096, 277244, 375702, 289281, 352009, 387862, 341694, 250005, 362404, 392533, 352638, 373608, 365623, 349705, 370688, 334170, 241028, 287078, 284374, 297063, 338221, 352641, 370327, 307950, 344334, 329495, 339564, 387380, 381471, 395593, 377706, 386475, 344544, 336841, 334014, 328586, 299910, 311711, 340433, 329758, 356982, 356623, 384879, 365548, 376795, 334816, 317060, 311200, 316124, 304323, 331402, 323424, 301191, 270371, 273997, 228818, 220394, 223062, 219352, 214293, 218502, 257216, 263999, 338469, 341876, 322208, 352070, 350758, 333858, 338020, 350060, 319152, 350832, 387611, 349725, 396394, 162911, 238702, 397256, 351136, 359004, 357061, 358690, 360092, 375461, 360175, 223409, 361767, 329225, 384558, 324696, 377144, 353448, 364317, 342415, 369027, 362503, 344085, 370271, 346833, 382948, 377392, 340736, 380767, 345532, 377961, 373346, 355622, 291549, 359626, 390496, 373685, 365016, 359620, 375202, 348467, 365608, 379706, 364522, 240092, 369106, 369692, 352054, 391833, 144012, 395149, 377421, 373932, 367888, 373538, 361592, 392908, 389615, 360346, 347193, 348337, 354988, 350690, 303806, 342076, 331607, 362463, 396034, 359175, 372182, 377068, 378269, 387893, 378872, 376042, 386032, 384044, 369504, 370736, 340537, 361957, 384129, 356196, 319209, 327511, 362463, 384559, 321390, 290106, 323277, 339230, 363263, 357380, 285216, 319360, 243911, 306601, 320306, 357290, 366570, 304829, 358750, 400810, 353375, 366439, 382140, 377256, 369088, 383735, 329005, 378938, 364781, 173130, 370728, 355699, 380271, 375052, 373398, 382339, 364602, 312139, 353217, 370746, 352008, 369074, 387677, 378263, 320205, 351819, 390878, 371524, 385470, 388255, 371368, 337161, 364662, 371538, 370055, 360879, 336213, 347215, 374951, 288625, 328217, 327581, 328010, 397765, 324062, 380577, 391801, 285605, 303928, 403009, 352686, 392150, 107815, 59469, 31526, 398418, 360514, 399159, 337811, 375929, 375801, 381065, 363119, 342730, 350273, 333092, 338901, 298679, 331708, 343596, 329753, 336995, 334777, 340657, 350292, 351253, 361663, 362797, 346553, 321418, 352698, 375830, 375828, 361485, 384703, 349057, 370071, 366087, 396232, 372152, 383995, 300261, 309023, 406890, 342757, 359886, 355305, 354647, 259164, 324878, 332609, 309237, 298069, 342574, 323095, 296363, 348868, 335403, 332329, 316920, 289859, 386422, 0, 0, 0, 0, 0, 365199, 399806, 192697, 125874, 317860, 328115, 282958, 295498, 330463, 337513, 321309, 323023, 364299, 321833, 342256, 341409, 360610, 170680, 154033, 42893, 63048, 105281, 179684, 123825, 111034, 88077, 106706, 120253, 66889, 368040, 272098, 127213, 50739, 17718, 20241, 18481, 22830, 29267, 358206, 350321, 379742, 238859, 358824, 376125, 329954, 389864, 335178, 314243, 335822, 344880, 339389, 234143, 291119, 312495, 310217, 356961, 345918, 364533, 330538, 389081, 333482, 374820, 328651, 376752, 391558, 393933, 388169, 354948, 371485, 359216, 368184, 347792, 385839, 375876, 362517, 295742, 347125, 365794, 315031, 365890, 393986, 344753, 349477, 337228, 352522, 338644, 319532, 348125, 349216, 324608, 369420, 355770, 280751, 333425, 315752, 302925, 318900, 242682, 269381, 110588, 111958, 162722, 173591, 158068, 153242, 161696, 153700, 223164, 224277, 235054, 274452, 261670, 265689, 276268, 246255, 215703, 236597, 219713, 215067, 259568, 262499, 280538, 273222, 265879, 279118, 252365, 224559, 292971, 201920, 142292, 245161, 273427, 297224, 342971, 308107, 273322, 313723, 241800, 273371, 256570, 221188, 251890, 258980, 273647, 278870, 250034, 260449, 262824, 232316, 204275, 240087, 252624, 247134, 197298, 240838, 252414, 282359, 250069, 284476, 201291, 264040, 240861, 239195, 262209, 253070, 279827, 266865, 310626, 351681, 354130, 281623, 305937, 329882, 291159, 252324, 264052, 307019, 288729, 307542, 256934, 226103, 180179, 180188, 333408, 250983, 265431, 244322, 243701, 243070, 260110, 197949, 242920, 321426, 241747, 226813, 198477, 263352, 218042, 203062, 199176, 295987, 246459, 245103, 198133, 167410, 215331, 211022, 283261, 219127, 267675, 230691, 237676, 217844, 255005, 203168, 150545, 234514, 277549, 305155, 275700, 175850, 187841, 213870, 201217, 226893, 168082, 229580, 323170, 241782, 287891, 184477, 186955, 155023, 144858, 157048, 236547, 201783, 245915, 172255, 235578, 320067, 139907, 220214, 277865, 189949, 209445, 192455, 174703, 143867, 94245, 167353, 164440, 189004, 206154, 184447, 137163, 169350, 192500, 178243, 145908, 127746, 63994, 0, 0, 0, 408957, 381393, 400902, 206460, 166477, 326148, 323619, 279287, 302552, 300667, 326002, 339095, 338133, 363769, 319565, 348404, 335945, 385700, 343425, 295160, 54947, 35896, 334970, 309898, 312906, 171273, 384911, 313578, 375728, 277639, 347004, 392680, 314922, 357676, 328810, 331404, 289875, 286471, 268534, 248254, 234401, 224714, 408774, 108656, 86518, 408582, 246471, 233473, 207295, 220818, 296874, 336708, 281968, 251181, 190406, 127655, 50117, 332985, 111373, 120703, 140428, 157172, 218204, 293415, 197085, 116106, 52355, 48161, 65492, 298709, 327859, 155134, 346987, 355353, 312871, 349068, 204734, 175541, 176904, 180899, 172128, 333131, 265657, 282557, 318896, 360458, 246925, 197690, 199324, 70318, 25158, 6868, 304978, 320408, 332379, 364840, 340825, 322662, 352795, 370900, 344103, 337211, 341948, 380584, 369893, 339911, 306522, 302772, 248064, 276636, 132111, 360566, 363575, 363603, 368596, 321813, 361924, 368657, 290737, 280909, 316605, 287655, 340259, 316207, 330956, 341555, 308659, 297233, 299610, 327195, 317415, 291199, 264876, 239696, 266272, 323963, 288168, 268317, 288328, 256250, 339077, 231109, 345829, 330687, 273143, 323296, 366016, 136050, 301479, 376923, 316327, 382977, 353302, 388801, 335971, 300053, 149789, 363368, 370682, 315103, 161581, 303003, 257457, 54939, 290941, 243851, 287312, 275370, 316376, 311817, 291149, 312053, 133279, 148709, 258497, 219668, 358459, 181456, 362843, 262604, 331461, 256366, 284037, 363189, 218549, 322011, 254700, 248628, 242555, 260972, 219156, 280041, 128471, 275495, 310847, 302239, 111393, 304089, 346428, 377415, 207314, 223574, 179314, 192499, 96180, 297773, 384249, 299994, 339324, 251274, 340635, 263349, 128559, 374481, 288226, 361708, 368975, 322593, 249075, 341892, 387576, 390072, 359214, 225621, 198629, 257065, 347175, 270581, 139889, 382059, 255172, 311714, 257927, 340611, 287038, 306385, 378677, 196730, 238189, 254944, 87915, 227160, 169005, 167244, 279161, 120028, 245274, 235917, 194903, 235269, 115064, 149560, 322686, 325920, 348120, 279892, 178103, 241916, 287128, 125412, 243266, 336968, 193866, 232180, 181773, 318318, 367735, 384886, 251517, 384112, 47168, 351820, 351017, 319142, 363148, 312465, 316958, 272525, 336457, 301785, 318805, 327983, 330749, 302923, 297981, 323573, 280220, 288938, 293144, 313040, 262888, 308412, 278732, 270558, 284785, 297506, 300257, 337003, 348719, 300056, 293843, 340544, 382331, 358829, 366435, 378011, 380538, 382697, 353887, 276832, 346365, 305281, 239090, 200010, 253152, 80906, 162530, 365056, 173164, 310552, 294004, 288382, 245669, 267941, 121824, 368973, 158224, 324482, 188377, 332908, 258165, 228895, 338711, 365519, 303036, 209222, 235038, 339550, 221110, 307190, 116086, 331249, 316366, 315609, 359965, 358918, 268816, 288487, 330272, 339068, 217984, 341872, 324489, 354373, 310268, 304089, 221034, 242353, 327526, 64085, 87266, 311859, 317703, 223349, 353580, 219040, 340317, 302466, 96641, 380689, 389134, 388901, 381113, 315793, 287095, 67976, 383600, 50439, 388666, 333492, 383824, 315705, 367091, 357343, 362202, 314002, 338387, 330555, 134876, 315256, 319177, 201422, 161246, 134395, 281583, 227727, 181674, 360805, 244783, 369085, 79107, 318530, 292655, 354936, 316817, 344183, 285541, 361576, 329680, 334489, 210071, 227383, 205253, 262700, 274298, 285028, 321511, 307063, 283861, 311800, 338882, 290548, 120018, 160742, 339594, 349360, 346690, 342726, 297925, 332776, 301425, 253795, 270194, 307601, 338145, 288531, 237394, 244178, 288459, 329315, 297618, 309590, 314645, 271525, 266555, 216933, 320680, 364322, 326702, 306290, 321018, 291984, 279875, 288537, 275363, 324594, 295724, 297377, 311716, 294372, 299798, 330127, 303536, 256463, 340635, 198214, 381781, 319398, 345306, 373567, 355945, 381058, 337980, 316185, 330651, 290591, 305984, 311022, 257377, 307209, 300359, 289676, 286372, 273071, 231848, 238676, 308259, 231837, 211198, 211145, 112539, 35237, 20803, 362123, 189586, 270512, 306514, 300201, 274576, 322872, 311915, 294013, 328458, 317273, 351267, 403995, 362741, 338225, 380532, 366883, 380345, 401666, 369273, 390541, 348043, 179083, 336659, 384810, 361294, 387290, 374398, 380989, 388988, 396619, 392144, 368612, 382461, 346294, 342168, 322264, 288164, 269903, 299368, 250649, 293439, 318861, 298843, 281561, 298710, 276284, 220248, 310886, 288873, 248759, 269023, 285509, 274977, 286663, 360454, 385038, 218411, 281236, 307064, 295488, 277641, 236515, 218909, 325677, 379019, 37109, 129512, 329970, 133453, 382073, 375213, 273524, 171114, 317882, 273981, 362655, 172767, 260101, 230054, 243752, 129875, 208258, 285820, 208575, 285525, 335629, 114393, 354900, 367219, 332121, 365635, 292322, 257335, 154113, 377826, 213490, 335368, 357039, 278952, 225387, 254456, 100145, 34100, 185185, 140653, 278067, 118984, 232891, 199104, 316549, 311577, 307477, 209105, 291230, 276277, 273001, 104425, 269005, 106502, 179219, 123185, 293076, 360466, 356236, 353515, 314797, 343055, 314815, 310269, 324620, 335187, 295713, 316163, 352527, 350961, 315231, 286019, 287770, 271710, 0, 0, 0, 0, 0, 0, 405311, 355615, 383339, 227840, 329967, 333676, 316837, 272903, 314425, 298479, 278726, 163029, 279867, 51018, 98609, 110222, 97005, 116043, 143871, 125196, 110683, 170639, 153746, 165504, 174781, 167180, 114408, 96909, 144, 62887, 55728, 90213, 91588, 112222, 128828, 71272, 82324, 271005, 127988, 40864, 6583, 32865, 45995, 348959, 353407, 390194, 257460, 395539, 393058, 383559, 358373, 400349, 343943, 170926, 253945, 376063, 391579, 365483, 385945, 365932, 352172, 381244, 361343, 363310, 362383, 307295, 388107, 377902, 371026, 382023, 352682, 307834, 307017, 360726, 372112, 348785, 384421, 398266, 281963, 164302, 173797, 253633, 383320, 373369, 298794, 397524, 294045, 224426, 301390, 165449, 385472, 374932, 384126, 367627, 366190, 370977, 396649, 370385, 362311, 346501, 360635, 365678, 379722, 369378, 372114, 371260, 366262, 342537, 386499, 375272, 374969, 365895, 366205, 372004, 391705, 342252, 335022, 348234, 350554, 373130, 389684, 381266, 344404, 394225, 371338, 365805, 379987, 351353, 375895, 361371, 379425, 374368, 393172, 393997, 369657, 370962, 379687, 386270, 388817, 369892, 367586, 368757, 374145, 377880, 396065, 367365, 384241, 373587, 363439, 360115, 382178, 369929, 376899, 370742, 356658, 373041, 389963, 386265, 368497, 371719, 363990, 371196, 360831, 377273, 377347, 365125, 382195, 382215, 350030, 392335, 395331, 347798, 355730, 380145, 376557, 366458, 309621, 343264, 242551, 393890, 147673, 391467, 393801, 364777, 390969, 253068, 337537, 391744, 340011, 387261, 364168, 151816, 388161, 329478, 338307, 356352, 393622, 380354, 332861, 348575, 366073, 361267, 378144, 362947, 244333, 328729, 359796, 384498, 340719, 365246, 352850, 340068, 380910, 358230, 331007, 298517, 389793, 40025, 367312, 379466, 355027, 367907, 371752, 369199, 344240, 367902, 358297, 366607, 353023, 385334, 383270, 358036, 325403, 357121, 350849, 367378, 348577, 390646, 382810, 366844, 364861, 380354, 373799, 349135, 327135, 325195, 381808, 376591, 376852, 373711, 234875, 374300, 366893, 322115, 300636, 364300, 365548, 363484, 389501, 313948, 375718, 389142, 329966, 351713, 355196, 267930, 234729, 167487, 286872, 345636, 354717, 329573, 222206, 149965, 175538, 309289, 251750, 240602, 160690, 282929, 292839, 374683, 340946, 339109, 352174, 331758, 263377, 288914, 323641, 357014, 161808, 345278, 384725, 273926, 286524, 238870, 267456, 193470, 381792, 209153, 304627, 140928, 398414, 337930, 362495, 296750, 377045, 391157, 376433, 372766, 377201, 297062, 388323, 374765, 371743, 351474, 328146, 330741, 335127, 362518, 386844, 248593, 293724, 384004, 345865, 374059, 385043, 250116, 386426, 350920, 388842, 384787, 394840, 388088, 393942, 376540, 346567, 376800, 386002, 308868, 405209, 372081, 371809, 380034, 383778, 382060, 393131, 379412, 359031, 381986, 390799, 393169, 381133, 353321, 333194, 333072, 299643, 295976, 386070, 390814, 379175, 356659, 378894, 375251, 374546, 368057, 380664, 371823, 393804, 390875, 387792, 319562, 395460, 377968, 366834, 336443, 345467, 307251, 364290, 382919, 397991, 369650, 356589, 358874, 335845, 368336, 387982, 374958, 385563, 387868, 364433, 392525, 376371, 367417, 381761, 378621, 302800, 307939, 309220, 350709, 348874, 372823, 315807, 329734, 337807, 337355, 343009, 343768, 329498, 313980, 348939, 332575, 345503, 317482, 298809, 291130, 191, 0, 0, 0, 349069, 399896, 368675, 138782, 304512, 317960, 296346, 257022, 280879, 219703, 53090, 18601, 13484, 163645, 229069, 225021, 261572, 405589, 103839, 319793, 5100, 48, 0, 0, 23260, 182, 44, 0, 0, 0, 0, 0, 402368], [940144, 756656, 600574, 462498, 664285, 660015, 432327, 482157, 412470, 456412, 374695, 296990], [629217, 444703, 342607, 408333, 359174, 462804, 404649, 425225, 647912, 504059, 463776, 411086, 377237, 474265, 324027, 392498, 404633, 439027, 281387, 442237, 371002, 379922, 444833, 403531, 312697, 413076, 386813, 532165, 409602, 478719, 502692, 424644, 357021, 444424, 409845, 476543, 438189, 467006, 330529, 459803, 420042, 427975, 442874, 477257, 447340, 393398, 317514, 439177, 314999, 406912, 304459, 423254, 405810, 547219, 415030, 420913, 352342, 428943, 307065, 501031, 390682, 415679], [756930, 436458, 327915, 397621, 363021, 452263, 330913, 542318, 371914, 331810, 286116, 410236, 305124, 507886, 316453, 450305, 372886, 449087, 367660, 379869, 274541, 378518, 367729, 356523, 433173, 355565, 454781, 404183, 345709, 414190, 420600, 412440, 420924, 450229, 476018, 413311, 402860, 416677, 475640, 415472, 416875, 368154, 419210, 409048, 378793, 402272, 464056, 438943, 400060, 340877, 436950, 405675, 417988, 440659, 387155, 334558, 327215, 362855, 424479, 417148, 346454, 417016, 445681, 414855, 419976, 410047, 416030, 416261, 435423, 336424, 322776, 413481, 411352, 432296], [825327, 553019, 381828, 442115, 428360, 474527, 472215, 508928, 489124, 524382, 478309, 473304, 417900, 514375, 495179, 504237, 414938, 572679, 481904, 482734, 427865, 488737, 470994, 476901, 453572, 475233, 502422, 515972, 501805, 499971, 496099, 490545, 498018, 503302, 496383, 491620, 494637, 487416, 498917, 515368, 483221, 492019, 500314, 452539, 497973, 495689, 499877, 499979, 503616, 513978, 497515, 498218, 500704, 503323, 499193, 501057, 499594, 505488, 499079, 491657, 515373, 472330, 454002, 450868, 479453, 514822, 486595, 490258, 448466, 484631, 485122, 510735, 510512, 455785, 426639, 451533, 510553, 519710, 763190], [865982, 494323, 301343, 505255, 432262, 375466, 581323, 500185, 302352, 658785, 358358, 451289, 380333, 569322, 253972, 529691, 692119, 688933, 547310, 489233, 462218, 522200, 628123, 584933, 733848, 747525, 540807, 492729, 667640, 513504, 633398, 482825, 543768, 670779, 401010, 460474, 614089, 492852, 563598, 573595, 490366, 599782, 526351, 634369, 521389, 570102, 390525, 496676, 498519, 564068, 672105, 654554, 683962, 629855, 416643, 413860, 636801, 710866, 569428, 488974], [830433, 498654, 307176, 702442, 397414, 462813, 505791, 466865, 380304, 605687, 479154, 658195, 461969, 518607, 413744, 502609, 516172, 500576, 574196, 361859, 642687, 570816, 455935, 457570, 494152, 498311, 487065, 452164, 394060, 483204, 468210, 452104, 408474, 456145, 401472, 513419, 357256, 444017, 440170, 499954, 457767, 575188, 411867, 440091, 477481, 450042, 440232, 369641, 441652, 465965, 456635, 539244, 326915, 456525, 431668, 452425, 372508, 487752, 430461, 523730, 512138, 548020, 548015, 580485, 368898, 661683, 599693, 686261, 568517, 455097, 481685, 458619, 451510, 543647, 463189, 556521, 378068, 402725, 447798, 529564, 447475, 598766, 515399], [615425, 444764, 386385, 432090, 480426, 502050, 567171, 613904, 403544, 464067, 505848, 525373, 399500, 474260, 450258, 417580, 424145, 454477, 414952, 446647, 418513, 426907, 387087, 454916, 414959, 497225, 384310, 436670, 429409, 432893, 382169, 440297, 412258, 530136, 437750], [526810, 509554, 405077, 426534, 368784, 431368, 459522, 467057, 404452, 454111, 432313, 442448, 476881, 465216, 475685, 445694, 395484, 449779, 416952, 438893, 422780, 462065, 422639, 512602, 380495, 480087, 420383, 440495, 395264, 507996, 416203, 405547, 459786, 441469, 486701, 443387, 416674, 411442, 463091, 476368, 382973, 417048, 393121, 421466, 434205, 442169, 448091, 480474, 454704, 470435, 438631, 442343, 449898, 461315, 450769, 470871, 498074, 448476, 437030, 473707, 415771, 435761, 421156, 465102, 447105, 447762, 438529, 411801, 404231, 429506, 474050], [792687, 441271, 601837, 460469, 373656, 447176, 434010, 492776, 429818, 489176, 530260, 511214, 413338, 386417, 414041, 471989, 405999, 453908, 491884, 476831, 597334, 656584, 551304, 542150, 774602, 675659, 757013, 421202, 389467]]\n"
     ]
    }
   ],
   "source": [
    "print(action)"
   ]
  },
  {
   "cell_type": "code",
   "execution_count": null,
   "metadata": {},
   "outputs": [],
   "source": []
  },
  {
   "cell_type": "code",
   "execution_count": null,
   "metadata": {},
   "outputs": [],
   "source": []
  },
  {
   "cell_type": "code",
   "execution_count": null,
   "metadata": {},
   "outputs": [],
   "source": []
  }
 ],
 "metadata": {
  "kernelspec": {
   "display_name": "Python 3",
   "language": "python",
   "name": "python3"
  },
  "language_info": {
   "codemirror_mode": {
    "name": "ipython",
    "version": 3
   },
   "file_extension": ".py",
   "mimetype": "text/x-python",
   "name": "python",
   "nbconvert_exporter": "python",
   "pygments_lexer": "ipython3",
   "version": "3.6.2"
  }
 },
 "nbformat": 4,
 "nbformat_minor": 2
}
