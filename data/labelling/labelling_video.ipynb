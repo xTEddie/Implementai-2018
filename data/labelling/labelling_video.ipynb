{
 "cells": [
  {
   "cell_type": "code",
   "execution_count": 1,
   "metadata": {},
   "outputs": [],
   "source": [
    "import cv2\n",
    "import os"
   ]
  },
  {
   "cell_type": "code",
   "execution_count": 2,
   "metadata": {},
   "outputs": [
    {
     "name": "stdout",
     "output_type": "stream",
     "text": [
      "bad_0.mp4\n",
      "bad_1.mp4\n",
      "bad_2.mp4\n",
      "bad_3.mp4\n",
      "bad_4.mp4\n",
      "bad_5.mp4\n",
      "good_0.mp4\n",
      "good_1.mp4\n",
      "good_2.mp4\n",
      "good_3.mp4\n",
      "good_4.mp4\n",
      "good_5.mp4\n",
      "good_6.mp4\n",
      "good_7.mp4\n",
      "good_8.mp4\n"
     ]
    }
   ],
   "source": [
    "a = os.listdir(\"/Users/tristansaumure-toupin/Google Drive/implement_ai_2018/\")\n",
    "vids = []\n",
    "for v in sorted(a):\n",
    "    if v.endswith(\".mp4\") : \n",
    "        vids.append('/Users/tristansaumure-toupin/Google Drive/implement_ai_2018/'+v)\n",
    "        print (v)\n"
   ]
  },
  {
   "cell_type": "code",
   "execution_count": 3,
   "metadata": {},
   "outputs": [],
   "source": [
    "def get_fps(cap):\n",
    "    return cap.get(cv2.CAP_PROP_FPS)\n",
    "\n",
    "def get_capture(vid_path):\n",
    "    return cv2.VideoCapture(vid_path)\n",
    "\n",
    "def get_frame_count(cap):\n",
    "    return int(cap.get(cv2.CAP_PROP_FRAME_COUNT))\n",
    "\n",
    "def get_lenght(c, f):\n",
    "    return c/f\n",
    "\n",
    "def label_vid(st, en, cap, interval):    \n",
    "    fps = get_fps(capture)\n",
    "    frame_count = get_frame_count(capture)\n",
    "    lenght = get_lenght(frame_count, fps)\n",
    "    labels = []\n",
    "    each_n = int(fps*interval)\n",
    "    location = 0\n",
    "    \n",
    "    for i in range(frame_count):\n",
    "        if i % each_n == 0:\n",
    "            time_in_v = i/fps\n",
    "            label = 0\n",
    "            if not (location >= len(st)):\n",
    "                if time_in_v > st[location]:\n",
    "                    label += 1\n",
    "                if time_in_v > en[location]:\n",
    "                    location += 1\n",
    "            labels.append(label)\n",
    "    return labels"
   ]
  },
  {
   "cell_type": "code",
   "execution_count": 5,
   "metadata": {},
   "outputs": [
    {
     "name": "stdout",
     "output_type": "stream",
     "text": [
      "0\n",
      "1\n",
      "2\n",
      "3\n",
      "4\n",
      "5\n",
      "6\n",
      "7\n",
      "8\n",
      "9\n",
      "10\n",
      "11\n",
      "12\n",
      "13\n",
      "14\n"
     ]
    },
    {
     "ename": "IndexError",
     "evalue": "list index out of range",
     "output_type": "error",
     "traceback": [
      "\u001b[0;31m---------------------------------------------------------------------------\u001b[0m",
      "\u001b[0;31mIndexError\u001b[0m                                Traceback (most recent call last)",
      "\u001b[0;32m<ipython-input-5-5881c6100e33>\u001b[0m in \u001b[0;36m<module>\u001b[0;34m()\u001b[0m\n\u001b[1;32m      8\u001b[0m     \u001b[0mcapture\u001b[0m \u001b[0;34m=\u001b[0m \u001b[0mget_capture\u001b[0m\u001b[0;34m(\u001b[0m\u001b[0mpath\u001b[0m\u001b[0;34m)\u001b[0m\u001b[0;34m\u001b[0m\u001b[0m\n\u001b[1;32m      9\u001b[0m     \u001b[0mprint\u001b[0m\u001b[0;34m(\u001b[0m\u001b[0mpos\u001b[0m\u001b[0;34m)\u001b[0m\u001b[0;34m\u001b[0m\u001b[0m\n\u001b[0;32m---> 10\u001b[0;31m     \u001b[0mdata\u001b[0m\u001b[0;34m.\u001b[0m\u001b[0mappend\u001b[0m\u001b[0;34m(\u001b[0m\u001b[0mlabel_vid\u001b[0m\u001b[0;34m(\u001b[0m\u001b[0mstarts\u001b[0m\u001b[0;34m[\u001b[0m\u001b[0mpos\u001b[0m\u001b[0;34m]\u001b[0m\u001b[0;34m,\u001b[0m \u001b[0mends\u001b[0m\u001b[0;34m[\u001b[0m\u001b[0mpos\u001b[0m\u001b[0;34m]\u001b[0m\u001b[0;34m,\u001b[0m \u001b[0mcapture\u001b[0m\u001b[0;34m,\u001b[0m \u001b[0mintervals\u001b[0m\u001b[0;34m)\u001b[0m\u001b[0;34m)\u001b[0m\u001b[0;34m\u001b[0m\u001b[0m\n\u001b[0m",
      "\u001b[0;31mIndexError\u001b[0m: list index out of range"
     ]
    }
   ],
   "source": [
    "data = []\n",
    "starts = [[17,44,54],[4 ],[89],[11],[32,77,118,171,178,264,378,469,485,568,609,627,648,657,673,686,713,774,822,867,923],[],[],[],[],[],[],[],[],[]]\n",
    "ends =   [[39,52,66],[27],[92],[13],[51,94,148,172,248,277,408,470,549,600,615,627,648,657,676,704,723,775,822,886,941],[],[],[],[],[],[],[],[],[]]\n",
    "intervals = 0.5\n",
    "\n",
    "\n",
    "for pos, path in enumerate(vids):\n",
    "    capture = get_capture(path)\n",
    "    print(pos)\n",
    "    data.append(label_vid(starts[pos], ends[pos], capture, intervals))"
   ]
  },
  {
   "cell_type": "code",
   "execution_count": null,
   "metadata": {},
   "outputs": [],
   "source": [
    "for i in data:\n",
    "    print (i)\n",
    "    print()"
   ]
  },
  {
   "cell_type": "code",
   "execution_count": null,
   "metadata": {},
   "outputs": [],
   "source": []
  },
  {
   "cell_type": "code",
   "execution_count": null,
   "metadata": {},
   "outputs": [],
   "source": []
  },
  {
   "cell_type": "code",
   "execution_count": null,
   "metadata": {},
   "outputs": [],
   "source": []
  }
 ],
 "metadata": {
  "kernelspec": {
   "display_name": "Python 3",
   "language": "python",
   "name": "python3"
  },
  "language_info": {
   "codemirror_mode": {
    "name": "ipython",
    "version": 3
   },
   "file_extension": ".py",
   "mimetype": "text/x-python",
   "name": "python",
   "nbconvert_exporter": "python",
   "pygments_lexer": "ipython3",
   "version": "3.6.2"
  }
 },
 "nbformat": 4,
 "nbformat_minor": 2
}
