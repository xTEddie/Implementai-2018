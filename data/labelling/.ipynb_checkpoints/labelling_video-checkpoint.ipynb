{
 "cells": [
  {
   "cell_type": "code",
   "execution_count": 43,
   "metadata": {},
   "outputs": [],
   "source": [
    "import cv2"
   ]
  },
  {
   "cell_type": "code",
   "execution_count": 57,
   "metadata": {},
   "outputs": [],
   "source": [
    "v_1 = \"/Users/tristansaumure-toupin/Downloads/32.mp4\"\n",
    "v_2 = \"/Users/tristansaumure-toupin/Downloads/53.mp4\"\n",
    "v_3 = \"/Users/tristansaumure-toupin/Downloads/100.mp4\"\n",
    "# all 30fps ^^^\n"
   ]
  },
  {
   "cell_type": "code",
   "execution_count": 60,
   "metadata": {},
   "outputs": [
    {
     "name": "stdout",
     "output_type": "stream",
     "text": [
      "29.97002997002997\n"
     ]
    }
   ],
   "source": [
    "import cv2\n",
    "\n",
    "\n",
    "cap = cv2.VideoCapture(v_2)\n",
    "fps = cap.get(cv2.CAP_PROP_FPS)\n",
    "print(fps)\n",
    "timestamps = [cap.get(cv2.CAP_PROP_POS_MSEC)]\n",
    "calc_timestamps = [0.0]\n",
    "\n",
    "while(cap.isOpened()):\n",
    "    frame_exists, curr_frame = cap.read()\n",
    "    if frame_exists:\n",
    "        timestamps.append(cap.get(cv2.CAP_PROP_POS_MSEC))\n",
    "        calc_timestamps.append(calc_timestamps[-1] + 1000/fps)\n",
    "    else:\n",
    "        break\n",
    "\n",
    "cap.release()\n",
    "\n",
    "# for i, (ts, cts) in enumerate(zip(timestamps, calc_timestamps)):\n",
    "#     print('Frame %d difference:'%i, abs(ts - cts))"
   ]
  },
  {
   "cell_type": "code",
   "execution_count": null,
   "metadata": {},
   "outputs": [],
   "source": []
  },
  {
   "cell_type": "code",
   "execution_count": null,
   "metadata": {},
   "outputs": [],
   "source": []
  },
  {
   "cell_type": "code",
   "execution_count": null,
   "metadata": {},
   "outputs": [],
   "source": []
  },
  {
   "cell_type": "code",
   "execution_count": null,
   "metadata": {},
   "outputs": [],
   "source": []
  }
 ],
 "metadata": {
  "kernelspec": {
   "display_name": "Python 3",
   "language": "python",
   "name": "python3"
  }
 },
 "nbformat": 4,
 "nbformat_minor": 2
}
