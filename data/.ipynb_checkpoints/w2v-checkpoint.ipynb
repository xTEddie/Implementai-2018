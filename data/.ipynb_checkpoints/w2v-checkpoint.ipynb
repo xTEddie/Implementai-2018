{
 "cells": [
  {
   "cell_type": "code",
   "execution_count": 32,
   "metadata": {},
   "outputs": [],
   "source": [
    "import gensim\n",
    "\n",
    "model = gensim.models.KeyedVectors.load_word2vec_format('models/GoogleNews-vectors-negative300.bin', binary=True)  "
   ]
  },
  {
   "cell_type": "code",
   "execution_count": 40,
   "metadata": {},
   "outputs": [],
   "source": [
    "dangerous_word = [\"Acid\", \"Aggressor\", \"Agitator\", \"Aim\", \"Alert\", \"Ambush\", \"Ammunition\", \"Anarchy\", \"Anguish\", \"Annihilate\", \"Apartheid\", \"Arms\", \"Arsenal\", \"Artillery\", \"Assassin\", \"Assassinate\", \"Assault\", \"Atrocity\", \"Attack\", \"Authority\", \"Automatic\", \"Barrage\", \"Barricade\", \"Battle\", \"Battlefield\", \"Belligerent\", \"Betrayal\", \"Blast\", \"Blindside\", \"Blood\", \"Bloody\", \"Bomb\", \"Bombardment\", \"Booby trap\", \"Breach\", \"Break\", \"Brutal\", \"Brutality\", \"Brute\", \"Bullet\", \"Bully\", \"Burn\", \"Cadaver\", \"Camouflage\", \"Campaign\", \"Captive\", \"Capture\", \"Careen\", \"Carnage\", \"Casualties\", \"Cataclysm\", \"Causes\", \"Chaos\", \"Charge\", \"Charred\", \"Checking\", \"Clandestine\", \"Clash\", \"Coalition\", \"Collapse\", \"Combat\", \"Commandos\", \"Concentration\", \"Concussion\", \"Conflagration\", \"Conflict\", \"Confrontation\", \"Conquer\", \"Consequences\", \"Consolidate\", \"Conspiracy\", \"Conspire\", \"Control\", \"Coordinates\", \"Corpse\", \"Counterattack\", \"Countermand\", \"Crash\", \"Crime\", \"Crisis\", \"Cross-hairs\", \"Culpability\", \"Damage\", \"Danger\", \"Dangerous\", \"Dash\", \"Dead\", \"Deadly\", \"Death\", \"Debacle\", \"Deception\", \"Deliberate\", \"Demolish\", \"Demoralize\", \"Despot\", \"Destroy\", \"Destruction\", \"Detect\", \"Detection\", \"Devastation\", \"Device\", \"Dictator\", \"Dictatorship\", \"Die\", \"Disarmament\", \"Disaster\", \"Disastrous\", \"Discipline\", \"Disease\", \"Dispute\", \"Disruption\", \"Dissonance\", \"Division\", \"Domination\", \"Doom\", \"Downfall\", \"Drama\", \"Dread\", \"Encounter\", \"Enemy\", \"Enforce\", \"Engagement\", \"Epithet\", \"Escalate\", \"Excess\", \"Execute\", \"Execution\", \"Expectations\", \"Explode\", \"Exploitation\", \"Explosion\", \"Explosive\", \"Expunge\", \"Extremism\", \"Faction\", \"Fanatic\", \"Fatal\", \"Fear\", \"Fearful\", \"Felon\", \"Ferment\", \"Ferocious\", \"Feud\", \"Fierce\", \"Fiery\", \"Fight\", \"Fighter\", \"Force\", \"Forceful\", \"Forces\", \"Fray\", \"Frenzy\", \"Front lines\", \"Fuel\", \"Fugitive\", \"Furtive\", \"Gang\", \"Gang up on\", \"Gas\", \"Genocide\", \"Germ warfare\", \"Grave\", \"Grenade\", \"Grievous\", \"Groans\", \"Guard\", \"Guerrillas\", \"Guided bombs\", \"Guns\", \"Gunship\", \"Hammering\", \"Harass\", \"Harsh\", \"Hatch\", \"Hate\", \"Hatred\", \"Hazard\", \"Hiding\", \"Hijack\", \"Hijacker\", \"Hit\", \"Hit-and-run\", \"Holocaust\", \"Horror\", \"Hostility\", \"Howitzer\", \"Hurt\", \"Ignite\", \"Impact\", \"Improvise\", \"Incident\", \"Incite\", \"Incontrovertible\", \"Infanticide\", \"Infiltrate\", \"Inflame\", \"Informant\", \"Injuries\", \"Inmate\", \"Insurgent\", \"Insurrection\", \"Intense\", \"Intercept\", \"Interdiction\", \"International\", \"Interrogation\", \"Intervene\", \"Intimidate\", \"Invasion\", \"Investigate\", \"Investigations\", \"Involvement\", \"Ire\", \"Jail\", \"Jeer\", \"Jets\", \"Join\", \"Kamikaze\", \"Keen\", \"Kidnap\", \"Killing\", \"Knife\", \"Knock-out\", \"Land mines\", \"Laser-activated\", \"Launch\", \"Launcher\", \"Loathsome\", \"Machine guns\", \"Maim\", \"Malevolent\", \"Malicious\", \"Maraud\", \"March\", \"Massacre\", \"Mayhem\", \"Megalomania\", \"Menace\", \"Militancy\", \"Militant\", \"Militaristic\", \"Military\", \"Militia\", \"Mines\", \"Missile\", \"Mission\", \"Mistreatment\", \"Mob\", \"Mobile\", \"Mobilization\", \"Momentum\", \"Mortars\", \"Munitions\", \"Murder\", \"Muscle\", \"Nationalist\", \"Neutralize\", \"Nightmare\", \"Nitrate\", \"Notorious\", \"Offensive\", \"Officials\", \"Onerous\", \"Operation\", \"Opposition\", \"Order\", \"Out of control\", \"Outbreak\", \"Overrun\", \"Overthrow\", \"Pacify\", \"Partisan\", \"Patrol\", \"Penetrate\", \"Perform\", \"Persecute\", \"Petrify\", \"Photos\", \"Pilot\", \"Pistol\", \"Planes\", \"Plunder\", \"Position\", \"Post-traumatic\", \"Potent\", \"Pound\", \"Powder\", \"Power\", \"Powerful\", \"Preemptive\", \"Premeditate\", \"Prey\", \"Prison\", \"Prisoner\", \"Proliferation\", \"Provocation\", \"Prowl\", \"Pugnacious\", \"Pulverize\", \"Pushing\", \"Quail\", \"Quarrel\", \"Quell\", \"Quiver\", \"Radiation\", \"Radical\", \"Rage\", \"Ravage\", \"Ravish\", \"Rebel\", \"Rebellion\", \"Reconnaissance\", \"Recovery\", \"Recruit\", \"Refugee\", \"Regime\", \"Regiment\", \"Reinforcements\", \"Relentless\", \"Reparation\", \"Reprisal\", \"Reputation\", \"Resistance\", \"Retaliation\", \"Retreat\", \"Retribution\", \"Revenge\", \"Revolution\", \"Ricochet\", \"Rifle\", \"Rift\", \"Riot\", \"Rival\", \"Rocket\", \"Rot\", \"Rounds\", \"Rule\", \"Ruthless\", \"Sabotage\", \"Sacrifice\", \"Salvage\", \"Sanction\", \"Savage\", \"Scare\", \"Score\", \"Scramble\", \"Secrecy\", \"Secret\", \"Sedition\", \"Seize\", \"Seizure\", \"Sensor\", \"Setback\", \"Shelling\", \"Shells\", \"Shock\", \"Shoot\", \"Shot\", \"Showdown\", \"Siege\", \"Skirmish\", \"Slaughter\", \"Smash\", \"Smuggle\", \"Soldier\", \"Special-ops\", \"Specialized\", \"Spy\", \"Spy satellite\", \"Squad\", \"Stalk\", \"Stash\", \"Stealth\", \"Storm\", \"Straggler\", \"Strangle\", \"Strategic\", \"Strategist\", \"Strategy\", \"Strength\", \"Strife\", \"Strike\", \"Strip\", \"Stronghold\", \"Struggle\", \"Subversive\", \"Suffering\", \"Superstition\", \"Supplies\", \"Support\", \"Suppression\", \"Surprise\", \"Surrender\", \"Survival\", \"Survivor\", \"Suspect\", \"Tactics\", \"Tank\", \"Target\", \"Tension\", \"Terror\", \"Terrorism\", \"Terrorist\", \"Terrorize\", \"Threaten\", \"Thug\", \"Thwart\", \"Topple\", \"Torch\", \"Tornado\", \"Torpedo\", \"Tourniquet\", \"Tragic\", \"Training\", \"Trample\", \"Trap\", \"Trauma\", \"Treachery\", \"Trench\", \"Trigger\", \"Triumph\", \"Tsunami\", \"Turbulent\", \"Unbelievable\", \"Unconventional\", \"Unleash\", \"Unruly\", \"Uprising\", \"Urgency\", \"Vagrant\", \"Vanguard\", \"Vanish\", \"Vehicle\", \"Vehicular\", \"Vendetta\", \"Venomous\", \"Vicious\", \"Victory\", \"Vile\", \"Vilify\", \"Violation\", \"Violence\", \"Virulence\", \"Vital\", \"Vitriol\", \"Vociferous\", \"Void\", \"Vow\", \"Vulnerability\", \"Wage\", \"War\", \"Warheads\", \"Warplane\", \"Warrant\", \"Warrior\", \"Watchdog\", \"Watchful\", \"Weapon\", \"Weather\", \"Well-trained\", \"Wisdom\", \"Worldwide\", \"Wound\", \"Wreckage\", \"X-ray\", \"Yearn\", \"Yelling\", \"Zeal\", \"Zealot\", \"Zigzag\", \"Zone\"]"
   ]
  },
  {
   "cell_type": "code",
   "execution_count": 38,
   "metadata": {},
   "outputs": [
    {
     "name": "stdout",
     "output_type": "stream",
     "text": [
      "3.14681625366\n"
     ]
    }
   ],
   "source": [
    "print(sum(k-m))"
   ]
  },
  {
   "cell_type": "code",
   "execution_count": 39,
   "metadata": {},
   "outputs": [
    {
     "name": "stdout",
     "output_type": "stream",
     "text": [
      "5.50275611877\n"
     ]
    }
   ],
   "source": [
    "print(sum(q-w))"
   ]
  },
  {
   "cell_type": "code",
   "execution_count": null,
   "metadata": {},
   "outputs": [],
   "source": [
    "a = os.listdir(\"/Users/tristansaumure-toupin/Google Drive/implement_ai_2018/\")\n",
    "path = "
   ]
  },
  {
   "cell_type": "code",
   "execution_count": null,
   "metadata": {},
   "outputs": [],
   "source": [
    "df = pd.read_jsom(path)"
   ]
  }
 ],
 "metadata": {
  "kernelspec": {
   "display_name": "Python 3",
   "language": "python",
   "name": "python3"
  },
  "language_info": {
   "codemirror_mode": {
    "name": "ipython",
    "version": 3
   },
   "file_extension": ".py",
   "mimetype": "text/x-python",
   "name": "python",
   "nbconvert_exporter": "python",
   "pygments_lexer": "ipython3",
   "version": "3.6.2"
  }
 },
 "nbformat": 4,
 "nbformat_minor": 2
}
