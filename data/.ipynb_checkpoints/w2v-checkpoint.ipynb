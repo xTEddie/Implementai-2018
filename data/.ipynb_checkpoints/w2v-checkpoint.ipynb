{
 "cells": [
  {
   "cell_type": "code",
   "execution_count": 1,
   "metadata": {},
   "outputs": [],
   "source": [
    "import gensim\n",
    "\n",
    "model = gensim.models.KeyedVectors.load_word2vec_format('models/GoogleNews-vectors-negative300.bin', binary=True)  "
   ]
  },
  {
   "cell_type": "code",
   "execution_count": 2,
   "metadata": {},
   "outputs": [],
   "source": [
    "import pandas as pd\n",
    "import numpy as np\n",
    "from tqdm import tqdm_notebook"
   ]
  },
  {
   "cell_type": "code",
   "execution_count": 3,
   "metadata": {},
   "outputs": [],
   "source": [
    "dangerous_word = [\"Acid\", \"Aggressor\", \"Agitator\", \"Aim\", \"Alert\", \"Ambush\", \"Ammunition\", \"Anarchy\", \"Anguish\", \"Annihilate\", \"Apartheid\", \"Arms\", \"Arsenal\", \"Artillery\", \"Assassin\", \"Assassinate\", \"Assault\", \"Atrocity\", \"Attack\", \"Authority\", \"Automatic\", \"Barrage\", \"Barricade\", \"Battle\", \"Battlefield\", \"Belligerent\", \"Betrayal\", \"Blast\", \"Blindside\", \"Blood\", \"Bloody\", \"Bomb\", \"Bombardment\", \"Booby trap\", \"Breach\", \"Break\", \"Brutal\", \"Brutality\", \"Brute\", \"Bullet\", \"Bully\", \"Burn\", \"Cadaver\", \"Camouflage\", \"Campaign\", \"Captive\", \"Capture\", \"Careen\", \"Carnage\", \"Casualties\", \"Cataclysm\", \"Causes\", \"Chaos\", \"Charge\", \"Charred\", \"Checking\", \"Clandestine\", \"Clash\", \"Coalition\", \"Collapse\", \"Combat\", \"Commandos\", \"Concentration\", \"Concussion\", \"Conflagration\", \"Conflict\", \"Confrontation\", \"Conquer\", \"Consequences\", \"Consolidate\", \"Conspiracy\", \"Conspire\", \"Control\", \"Coordinates\", \"Corpse\", \"Counterattack\", \"Countermand\", \"Crash\", \"Crime\", \"Crisis\", \"Cross-hairs\", \"Culpability\", \"Damage\", \"Danger\", \"Dangerous\", \"Dash\", \"Dead\", \"Deadly\", \"Death\", \"Debacle\", \"Deception\", \"Deliberate\", \"Demolish\", \"Demoralize\", \"Despot\", \"Destroy\", \"Destruction\", \"Detect\", \"Detection\", \"Devastation\", \"Device\", \"Dictator\", \"Dictatorship\", \"Die\", \"Disarmament\", \"Disaster\", \"Disastrous\", \"Discipline\", \"Disease\", \"Dispute\", \"Disruption\", \"Dissonance\", \"Division\", \"Domination\", \"Doom\", \"Downfall\", \"Drama\", \"Dread\", \"Encounter\", \"Enemy\", \"Enforce\", \"Engagement\", \"Epithet\", \"Escalate\", \"Excess\", \"Execute\", \"Execution\", \"Expectations\", \"Explode\", \"Exploitation\", \"Explosion\", \"Explosive\", \"Expunge\", \"Extremism\", \"Faction\", \"Fanatic\", \"Fatal\", \"Fear\", \"Fearful\", \"Felon\", \"Ferment\", \"Ferocious\", \"Feud\", \"Fierce\", \"Fiery\", \"Fight\", \"Fighter\", \"Force\", \"Forceful\", \"Forces\", \"Fray\", \"Frenzy\", \"Front lines\", \"Fuel\", \"Fugitive\", \"Furtive\", \"Gang\", \"Gang up on\", \"Gas\", \"Genocide\", \"Germ warfare\", \"Grave\", \"Grenade\", \"Grievous\", \"Groans\", \"Guard\", \"Guerrillas\", \"Guided bombs\", \"Guns\", \"Gunship\", \"Hammering\", \"Harass\", \"Harsh\", \"Hatch\", \"Hate\", \"Hatred\", \"Hazard\", \"Hiding\", \"Hijack\", \"Hijacker\", \"Hit\", \"Hit-and-run\", \"Holocaust\", \"Horror\", \"Hostility\", \"Howitzer\", \"Hurt\", \"Ignite\", \"Impact\", \"Improvise\", \"Incident\", \"Incite\", \"Incontrovertible\", \"Infanticide\", \"Infiltrate\", \"Inflame\", \"Informant\", \"Injuries\", \"Inmate\", \"Insurgent\", \"Insurrection\", \"Intense\", \"Intercept\", \"Interdiction\", \"International\", \"Interrogation\", \"Intervene\", \"Intimidate\", \"Invasion\", \"Investigate\", \"Investigations\", \"Involvement\", \"Ire\", \"Jail\", \"Jeer\", \"Jets\", \"Join\", \"Kamikaze\", \"Keen\", \"Kidnap\", \"Killing\", \"Knife\", \"Knock-out\", \"Land mines\", \"Laser-activated\", \"Launch\", \"Launcher\", \"Loathsome\", \"Machine guns\", \"Maim\", \"Malevolent\", \"Malicious\", \"Maraud\", \"March\", \"Massacre\", \"Mayhem\", \"Megalomania\", \"Menace\", \"Militancy\", \"Militant\", \"Militaristic\", \"Military\", \"Militia\", \"Mines\", \"Missile\", \"Mission\", \"Mistreatment\", \"Mob\", \"Mobile\", \"Mobilization\", \"Momentum\", \"Mortars\", \"Munitions\", \"Murder\", \"Muscle\", \"Nationalist\", \"Neutralize\", \"Nightmare\", \"Nitrate\", \"Notorious\", \"Offensive\", \"Officials\", \"Onerous\", \"Operation\", \"Opposition\", \"Order\", \"Out of control\", \"Outbreak\", \"Overrun\", \"Overthrow\", \"Pacify\", \"Partisan\", \"Patrol\", \"Penetrate\", \"Perform\", \"Persecute\", \"Petrify\", \"Photos\", \"Pilot\", \"Pistol\", \"Planes\", \"Plunder\", \"Position\", \"Post-traumatic\", \"Potent\", \"Pound\", \"Powder\", \"Power\", \"Powerful\", \"Preemptive\", \"Premeditate\", \"Prey\", \"Prison\", \"Prisoner\", \"Proliferation\", \"Provocation\", \"Prowl\", \"Pugnacious\", \"Pulverize\", \"Pushing\", \"Quail\", \"Quarrel\", \"Quell\", \"Quiver\", \"Radiation\", \"Radical\", \"Rage\", \"Ravage\", \"Ravish\", \"Rebel\", \"Rebellion\", \"Reconnaissance\", \"Recovery\", \"Recruit\", \"Refugee\", \"Regime\", \"Regiment\", \"Reinforcements\", \"Relentless\", \"Reparation\", \"Reprisal\", \"Reputation\", \"Resistance\", \"Retaliation\", \"Retreat\", \"Retribution\", \"Revenge\", \"Revolution\", \"Ricochet\", \"Rifle\", \"Rift\", \"Riot\", \"Rival\", \"Rocket\", \"Rot\", \"Rounds\", \"Rule\", \"Ruthless\", \"Sabotage\", \"Sacrifice\", \"Salvage\", \"Sanction\", \"Savage\", \"Scare\", \"Score\", \"Scramble\", \"Secrecy\", \"Secret\", \"Sedition\", \"Seize\", \"Seizure\", \"Sensor\", \"Setback\", \"Shelling\", \"Shells\", \"Shock\", \"Shoot\", \"Shot\", \"Showdown\", \"Siege\", \"Skirmish\", \"Slaughter\", \"Smash\", \"Smuggle\", \"Soldier\", \"Special-ops\", \"Specialized\", \"Spy\", \"Spy satellite\", \"Squad\", \"Stalk\", \"Stash\", \"Stealth\", \"Storm\", \"Straggler\", \"Strangle\", \"Strategic\", \"Strategist\", \"Strategy\", \"Strength\", \"Strife\", \"Strike\", \"Strip\", \"Stronghold\", \"Struggle\", \"Subversive\", \"Suffering\", \"Superstition\", \"Supplies\", \"Support\", \"Suppression\", \"Surprise\", \"Surrender\", \"Survival\", \"Survivor\", \"Suspect\", \"Tactics\", \"Tank\", \"Target\", \"Tension\", \"Terror\", \"Terrorism\", \"Terrorist\", \"Terrorize\", \"Threaten\", \"Thug\", \"Thwart\", \"Topple\", \"Torch\", \"Tornado\", \"Torpedo\", \"Tourniquet\", \"Tragic\", \"Training\", \"Trample\", \"Trap\", \"Trauma\", \"Treachery\", \"Trench\", \"Trigger\", \"Triumph\", \"Tsunami\", \"Turbulent\", \"Unbelievable\", \"Unconventional\", \"Unleash\", \"Unruly\", \"Uprising\", \"Urgency\", \"Vagrant\", \"Vanguard\", \"Vanish\", \"Vehicle\", \"Vehicular\", \"Vendetta\", \"Venomous\", \"Vicious\", \"Victory\", \"Vile\", \"Vilify\", \"Violation\", \"Violence\", \"Virulence\", \"Vital\", \"Vitriol\", \"Vociferous\", \"Void\", \"Vow\", \"Vulnerability\", \"Wage\", \"War\", \"Warheads\", \"Warplane\", \"Warrant\", \"Warrior\", \"Watchdog\", \"Watchful\", \"Weapon\", \"Weather\", \"Well-trained\", \"Wisdom\", \"Worldwide\", \"Wound\", \"Wreckage\", \"X-ray\", \"Yearn\", \"Yelling\", \"Zeal\", \"Zealot\", \"Zigzag\", \"Zone\"]\n",
    "\n"
   ]
  },
  {
   "cell_type": "code",
   "execution_count": 4,
   "metadata": {},
   "outputs": [],
   "source": [
    "# normal_words = open(\"models/google-10000-english-usa-no-swears-long.txt\", \"r\") \n",
    "normal_words = []\n",
    "with open('models/google-10000-english-usa-no-swears-long.txt') as f:\n",
    "    normal_words = [line.rstrip('\\n') for line in f]"
   ]
  },
  {
   "cell_type": "code",
   "execution_count": 42,
   "metadata": {},
   "outputs": [
    {
     "name": "stdout",
     "output_type": "stream",
     "text": [
      "471\n"
     ]
    }
   ],
   "source": [
    "d_df = []\n",
    "print(len(dangerous_word))"
   ]
  },
  {
   "cell_type": "code",
   "execution_count": 43,
   "metadata": {},
   "outputs": [],
   "source": [
    "c, pos = 0, 0\n",
    "\n",
    "while c < 300 :\n",
    "    w = dangerous_word[pos]\n",
    "    if w in model:\n",
    "        t = np.append(w, model[w])\n",
    "        t = np.append(t, 1)\n",
    "        d_df.append(t)\n",
    "        c += 1\n",
    "    pos += 1\n",
    "df = pd.DataFrame(d_df)"
   ]
  },
  {
   "cell_type": "code",
   "execution_count": 36,
   "metadata": {},
   "outputs": [
    {
     "data": {
      "text/plain": [
       "(300, 302)"
      ]
     },
     "execution_count": 36,
     "metadata": {},
     "output_type": "execute_result"
    }
   ],
   "source": [
    "df.shape"
   ]
  },
  {
   "cell_type": "code",
   "execution_count": 44,
   "metadata": {},
   "outputs": [],
   "source": [
    "c, pos = 0, 0\n",
    "\n",
    "while c < 300 :\n",
    "    w = normal_words[pos]\n",
    "    if w in model:\n",
    "        t = np.append(w, model[w])\n",
    "        t = np.append(t, 0)\n",
    "        df = df.append(pd.Series(t), ignore_index=True)\n",
    "        c += 1\n",
    "    pos += 1\n",
    "df = df.fillna(0)"
   ]
  },
  {
   "cell_type": "code",
   "execution_count": 45,
   "metadata": {},
   "outputs": [
    {
     "data": {
      "text/plain": [
       "(600, 302)"
      ]
     },
     "execution_count": 45,
     "metadata": {},
     "output_type": "execute_result"
    }
   ],
   "source": [
    "df.shape"
   ]
  },
  {
   "cell_type": "code",
   "execution_count": 46,
   "metadata": {},
   "outputs": [],
   "source": [
    "from sklearn.neighbors import KNeighborsClassifier\n",
    "import numpy as np\n",
    "X = np.array(df.iloc[:,1:301])\n",
    "X = X.astype(np.float)\n",
    "y = np.array(df.iloc[:,301:302])\n",
    "y = y.astype(np.float)\n"
   ]
  },
  {
   "cell_type": "code",
   "execution_count": 47,
   "metadata": {},
   "outputs": [
    {
     "data": {
      "text/plain": [
       "(600, 300)"
      ]
     },
     "execution_count": 47,
     "metadata": {},
     "output_type": "execute_result"
    }
   ],
   "source": [
    "X.shape"
   ]
  },
  {
   "cell_type": "code",
   "execution_count": 115,
   "metadata": {},
   "outputs": [
    {
     "name": "stderr",
     "output_type": "stream",
     "text": [
      "/Library/Frameworks/Python.framework/Versions/3.6/lib/python3.6/site-packages/ipykernel_launcher.py:2: DataConversionWarning: A column-vector y was passed when a 1d array was expected. Please change the shape of y to (n_samples, ), for example using ravel().\n",
      "  \n"
     ]
    },
    {
     "data": {
      "text/plain": [
       "KNeighborsClassifier(algorithm='auto', leaf_size=30, metric='minkowski',\n",
       "           metric_params=None, n_jobs=1, n_neighbors=1, p=2,\n",
       "           weights='uniform')"
      ]
     },
     "execution_count": 115,
     "metadata": {},
     "output_type": "execute_result"
    }
   ],
   "source": [
    "neigh = KNeighborsClassifier(n_neighbors=1)\n",
    "neigh.fit(X, y) "
   ]
  },
  {
   "cell_type": "code",
   "execution_count": 116,
   "metadata": {},
   "outputs": [],
   "source": [
    "train_data =[\n",
    "  [\n",
    "    \"bad_0\",\n",
    "    [\"asphalt\", \"\", 0.42912817001342773],\n",
    "    [\"street\", \"road\", 0.8394591808319092],\n",
    "    [\"pedestrian\", \"person\", 0.7153438329696655],\n",
    "    [\"mode of transport\", \"\", 0.4103509783744812],\n",
    "    [\"road\", \"\", 0.5264518857002258],\n",
    "    [\"video game\", \"\", 0.6855336427688599],\n",
    "    [\"grand theft auto\", \"\", 0.6378698348999023],\n",
    "    [\"gameplay\", \"\", 0.8959224224090576],\n",
    "    [\"action-adventure game\", \"\", 0.8279644250869751],\n",
    "    [\"public space\", \"city\", 0.4410000145435333],\n",
    "    [\"action game\", \"\", 0.4335155487060547],\n",
    "    [\"urban area\", \"city\", 0.7159476280212402],\n",
    "    [\"games\", \"\", 0.8110185265541077],\n",
    "    [\"individual sports\", \"sports\", 0.4827655255794525]\n",
    "  ],\n",
    "  [\n",
    "    \"bad_1\",\n",
    "    [\"performance art\", \"entertainment\", 0.776498556137085],\n",
    "    [\"performance\", \"entertainment\", 0.8689395189285278],\n",
    "    [\"performing arts\", \"entertainment\", 0.7048920392990112],\n",
    "    [\"crowd\", \"people\", 0.4790838956832886],\n",
    "    [\"choreography\", \"person\", 0.4554271399974823],\n",
    "    [\"dance\", \"event\", 0.8460065126419067],\n",
    "    [\"stage\", \"location\", 0.7970036268234253],\n",
    "    [\"people\", \"person\", 0.643538236618042]\n",
    "  ],\n",
    "  [\n",
    "    \"bad_2\",\n",
    "    [\"supermarket\", \"building\", 0.5905728340148926],\n",
    "    [\"convenience store\", \"building\", 0.5475009679794312],\n",
    "    [\"retail\", \"building\", 0.8537852764129639],\n",
    "    [\"theft\", \"\", 1.0],\n",
    "    [\"aisle\", \"building\", 0.6348468661308289],\n",
    "    [\"closed-circuit television\", \"\", 0.7516538500785828],\n",
    "    [\"grocery store\", \"building\", 0.41690418124198914]\n",
    "  ],\n",
    "  [\n",
    "    \"bad_3\",\n",
    "    [\"retail\", \"building\", 0.85179203748703],\n",
    "    [\"convenience store\", \"building\", 0.6137951612472534],\n",
    "    [\"supermarket\", \"building\", 0.5696399807929993],\n",
    "    [\"grocery store\", \"building\", 0.5657719969749451],\n",
    "    [\"games\", \"\", 0.6630311608314514]\n",
    "  ],\n",
    "  [\n",
    "    \"bad_5\",\n",
    "    [\"games\", \"\", 0.6630311608314514],\n",
    "    [\"street\", \"road\", 0.8725519776344299],\n",
    "    [\"mode of transport\", \"\", 0.49719586968421936],\n",
    "    [\"lane\", \"road\", 0.4798836410045624],\n",
    "    [\"infrastructure\", \"\", 0.5088015198707581],\n",
    "    [\"transport\", \"\", 0.47636622190475464],\n",
    "    [\"asphalt\", \"\", 0.4905548691749573],\n",
    "    [\"residential area\", \"geographical feature\", 0.634059727191925],\n",
    "    [\"vehicle\", \"\", 0.6707363128662109],\n",
    "    [\"gameplay\", \"\", 0.9014673829078674],\n",
    "    [\"town\", \"geographical feature\", 0.8128039240837097],\n",
    "    [\"grand theft auto\", \"\", 0.9842053651809692],\n",
    "    [\"road\", \"\", 0.8000690937042236],\n",
    "    [\"pedestrian\", \"person\", 0.7415530681610107],\n",
    "    [\"action-adventure game\", \"\", 0.9098500609397888],\n",
    "    [\"urban area\", \"city\", 0.7599167823791504],\n",
    "    [\"grand theft auto v\", \"\", 0.9486562609672546],\n",
    "    [\"neighbourhood\", \"geographical feature\", 0.6982039213180542],\n",
    "    [\"video game\", \"\", 0.7245837450027466],\n",
    "    [\"car\", \"vehicle\", 0.6426721811294556]\n",
    "  ],\n",
    "  [\"good_0\"],\n",
    "  [\n",
    "    \"good_1\",\n",
    "    [\"lecture\", \"\", 0.5565255880355835],\n",
    "    [\"presentation\", \"person\", 0.5699931383132935],\n",
    "    [\"classroom\", \"room\", 0.7859737873077393],\n",
    "    [\"course\", \"\", 0.5719135999679565],\n",
    "    [\"seminar\", \"meeting\", 0.725393533706665],\n",
    "    [\"workshop\", \"building\", 0.4978684186935425],\n",
    "    [\"learning\", \"person\", 0.506279468536377],\n",
    "    [\"meeting\", \"event\", 0.8031936883926392],\n",
    "    [\"office\", \"building\", 0.5550302863121033],\n",
    "    [\"training\", \"service\", 0.4534359574317932]\n",
    "  ],\n",
    "  [\"good_2\"],\n",
    "  [\n",
    "    \"good_3\",\n",
    "    [\"interior design\", \"\", 0.42914602160453796],\n",
    "    [\"lobby\", \"\", 0.7623113989830017]\n",
    "  ],\n",
    "  [\n",
    "    \"good_4\",\n",
    "    [\"street\", \"road\", 0.9527437090873718],\n",
    "    [\"pedestrian\", \"person\", 0.679015576839447],\n",
    "    [\"road surface\", \"\", 0.8336014747619629],\n",
    "    [\"intersection\", \"street\", 0.6474505662918091],\n",
    "    [\"road\", \"\", 0.8176143765449524],\n",
    "    [\"pedestrian crossing\", \"road\", 0.7703819870948792],\n",
    "    [\"vehicle\", \"\", 0.518998920917511],\n",
    "    [\"sidewalk\", \"city\", 0.918197512626648],\n",
    "    [\"public space\", \"city\", 0.7048987746238708],\n",
    "    [\"asphalt\", \"\", 0.5916564464569092],\n",
    "    [\"individual sports\", \"sports\", 0.40179145336151123]\n",
    "  ],\n",
    "  [\n",
    "    \"good_5\",\n",
    "    [\"downtown\", \"city\", 0.7730458974838257],\n",
    "    [\"traffic\", \"\", 0.5490000247955322],\n",
    "    [\"neighbourhood\", \"geographical feature\", 0.40487411618232727],\n",
    "    [\"car\", \"vehicle\", 0.8757607936859131],\n",
    "    [\"road\", \"\", 0.848710298538208],\n",
    "    [\"motor vehicle\", \"vehicle\", 0.49407079815864563],\n",
    "    [\"asphalt\", \"\", 0.42672979831695557],\n",
    "    [\"vehicle\", \"\", 0.78989177942276],\n",
    "    [\"land vehicle\", \"vehicle\", 0.41463202238082886],\n",
    "    [\"city\", \"geographical feature\", 0.7555555701255798],\n",
    "    [\"public space\", \"city\", 0.5943351984024048],\n",
    "    [\"urban area\", \"city\", 0.8533060550689697],\n",
    "    [\"infrastructure\", \"\", 0.4518396556377411],\n",
    "    [\"intersection\", \"street\", 0.4139309823513031],\n",
    "    [\"sidewalk\", \"city\", 0.8647139668464661],\n",
    "    [\"street\", \"road\", 0.9688988327980042],\n",
    "    [\"town\", \"geographical feature\", 0.534446656703949],\n",
    "    [\"pedestrian\", \"person\", 0.7075098156929016],\n",
    "    [\"pedestrian crossing\", \"road\", 0.7652372121810913]\n",
    "  ],\n",
    "  [\"good_6\", [\"conversation\", \"communication\", 0.45516714453697205]],\n",
    "  [\n",
    "    \"good_7\",\n",
    "    [\"desk\", \"furniture\", 0.6034772396087646],\n",
    "    [\"student\", \"person\", 0.4417271018028259]\n",
    "  ],\n",
    "  [\n",
    "    \"good_8\",\n",
    "    [\"window\", \"\", 0.4660055935382843],\n",
    "    [\"glass\", \"material\", 0.5249565839767456],\n",
    "    [\"door\", \"\", 0.5831184387207031]\n",
    "  ]\n",
    "]"
   ]
  },
  {
   "cell_type": "code",
   "execution_count": 138,
   "metadata": {},
   "outputs": [
    {
     "name": "stdout",
     "output_type": "stream",
     "text": [
      "bad_0\n",
      "bad_1\n",
      "bad_2\n",
      "bad_3\n",
      "bad_5\n",
      "good_0\n",
      "good_1\n",
      "good_2\n",
      "good_3\n",
      "good_4\n",
      "good_5\n",
      "good_6\n",
      "good_7\n",
      "good_8\n",
      "[1, 1, 1, 1, 1, 0, 1, 0, 0, 0, 1, 0, 0, 0]\n"
     ]
    }
   ],
   "source": [
    "vid_labels_voc = []\n",
    "for v in train_data:\n",
    "    name = v[0]\n",
    "    preds_for_v = []\n",
    "    for w in (v[1:]):\n",
    "        the_w = (w[0])\n",
    "        confidence = (w[-1])\n",
    "        if confidence > 0.6:\n",
    "            if the_w in model:\n",
    "                word_test = model[the_w].reshape(-1, 1)\n",
    "                preds_for_v.append(0 if bool(neigh.predict([word_test.flatten()])) else 1)\n",
    "    if len(preds_for_v) == 0:\n",
    "        preds_for_v.append(0)\n",
    "    vid_labels_voc.append(1 if (np.mean(preds_for_v)) > 0.1 else 0)\n",
    "print(vid_labels_voc)"
   ]
  },
  {
   "cell_type": "code",
   "execution_count": null,
   "metadata": {},
   "outputs": [],
   "source": []
  },
  {
   "cell_type": "code",
   "execution_count": null,
   "metadata": {},
   "outputs": [],
   "source": []
  }
 ],
 "metadata": {
  "kernelspec": {
   "display_name": "Python 3",
   "language": "python",
   "name": "python3"
  },
  "language_info": {
   "codemirror_mode": {
    "name": "ipython",
    "version": 3
   },
   "file_extension": ".py",
   "mimetype": "text/x-python",
   "name": "python",
   "nbconvert_exporter": "python",
   "pygments_lexer": "ipython3",
   "version": "3.6.2"
  }
 },
 "nbformat": 4,
 "nbformat_minor": 2
}
